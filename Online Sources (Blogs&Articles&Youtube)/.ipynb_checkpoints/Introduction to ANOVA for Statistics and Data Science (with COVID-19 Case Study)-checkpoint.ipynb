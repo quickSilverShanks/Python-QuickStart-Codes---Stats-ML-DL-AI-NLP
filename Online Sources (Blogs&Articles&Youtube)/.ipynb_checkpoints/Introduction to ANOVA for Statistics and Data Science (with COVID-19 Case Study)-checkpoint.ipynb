{
 "cells": [
  {
   "cell_type": "code",
   "execution_count": 1,
   "metadata": {},
   "outputs": [],
   "source": [
    "# Original Source : https://www.analyticsvidhya.com/blog/2020/06/introduction-anova-statistics-data-science-covid-python/\n",
    "# Data Source : https://www.kaggle.com/sudalairajkumar/covid19-in-india\n",
    "# Original Data Source : https://github.com/Praveen76/ANOVA-Test-COVID-19/blob/master/population_india_census2011.csv\n",
    "# Data Source : https://github.com/Praveen76/ANOVA-Test-COVID-19/blob/master/IndividualDetails.csv"
   ]
  },
  {
   "cell_type": "markdown",
   "metadata": {},
   "source": [
    "# Part I : Getting Started"
   ]
  },
  {
   "cell_type": "markdown",
   "metadata": {},
   "source": [
    "## Import Libraries"
   ]
  },
  {
   "cell_type": "code",
   "execution_count": 45,
   "metadata": {},
   "outputs": [],
   "source": [
    "import pandas as pd\n",
    "import numpy as np\n",
    "import os\n",
    "import random\n",
    "import math\n",
    "\n",
    "import matplotlib.pyplot as plt\n",
    "import seaborn as sns\n",
    "%matplotlib inline\n",
    "\n",
    "from scipy import stats\n",
    "import statsmodels.api as sm\n",
    "import statsmodels.stats.multicomp as multicomp\n",
    "from statsmodels.formula.api import ols\n",
    "from statsmodels.stats.anova import anova_lm\n",
    "from statsmodels.stats.oneway import anova_oneway"
   ]
  },
  {
   "cell_type": "code",
   "execution_count": 2,
   "metadata": {},
   "outputs": [
    {
     "data": {
      "text/plain": [
       "'D:\\\\GitHub\\\\Python-QuickStart-Codes---Stats-ML-DL-AI-NLP\\\\Online Sources (Blogs&Articles)'"
      ]
     },
     "execution_count": 2,
     "metadata": {},
     "output_type": "execute_result"
    }
   ],
   "source": [
    "os.getcwd()"
   ]
  },
  {
   "cell_type": "markdown",
   "metadata": {},
   "source": [
    "## Get Datasets"
   ]
  },
  {
   "cell_type": "code",
   "execution_count": 3,
   "metadata": {},
   "outputs": [
    {
     "name": "stdout",
     "output_type": "stream",
     "text": [
      "(8066, 5) (36, 8) (27890, 12)\n"
     ]
    }
   ],
   "source": [
    "StatewiseTestingDetails=pd.read_csv('./data/covid19_india/StatewiseTestingDetails.csv')\n",
    "population_india_census2011=pd.read_csv('./data/covid19_india/population_india_census2011.csv')\n",
    "IndividualDetails=pd.read_csv('./data/covid19_india/IndividualDetails.txt', parse_dates=[2])\n",
    "print(StatewiseTestingDetails.shape, population_india_census2011.shape, IndividualDetails.shape)"
   ]
  },
  {
   "cell_type": "code",
   "execution_count": 4,
   "metadata": {},
   "outputs": [
    {
     "data": {
      "text/html": [
       "<div>\n",
       "<style scoped>\n",
       "    .dataframe tbody tr th:only-of-type {\n",
       "        vertical-align: middle;\n",
       "    }\n",
       "\n",
       "    .dataframe tbody tr th {\n",
       "        vertical-align: top;\n",
       "    }\n",
       "\n",
       "    .dataframe thead th {\n",
       "        text-align: right;\n",
       "    }\n",
       "</style>\n",
       "<table border=\"1\" class=\"dataframe\">\n",
       "  <thead>\n",
       "    <tr style=\"text-align: right;\">\n",
       "      <th></th>\n",
       "      <th>Date</th>\n",
       "      <th>State</th>\n",
       "      <th>TotalSamples</th>\n",
       "      <th>Negative</th>\n",
       "      <th>Positive</th>\n",
       "    </tr>\n",
       "  </thead>\n",
       "  <tbody>\n",
       "    <tr>\n",
       "      <th>0</th>\n",
       "      <td>2020-04-17</td>\n",
       "      <td>Andaman and Nicobar Islands</td>\n",
       "      <td>1403.0</td>\n",
       "      <td>1210</td>\n",
       "      <td>12.0</td>\n",
       "    </tr>\n",
       "    <tr>\n",
       "      <th>1</th>\n",
       "      <td>2020-04-24</td>\n",
       "      <td>Andaman and Nicobar Islands</td>\n",
       "      <td>2679.0</td>\n",
       "      <td>NaN</td>\n",
       "      <td>27.0</td>\n",
       "    </tr>\n",
       "    <tr>\n",
       "      <th>2</th>\n",
       "      <td>2020-04-27</td>\n",
       "      <td>Andaman and Nicobar Islands</td>\n",
       "      <td>2848.0</td>\n",
       "      <td>NaN</td>\n",
       "      <td>33.0</td>\n",
       "    </tr>\n",
       "    <tr>\n",
       "      <th>3</th>\n",
       "      <td>2020-05-01</td>\n",
       "      <td>Andaman and Nicobar Islands</td>\n",
       "      <td>3754.0</td>\n",
       "      <td>NaN</td>\n",
       "      <td>33.0</td>\n",
       "    </tr>\n",
       "    <tr>\n",
       "      <th>4</th>\n",
       "      <td>2020-05-16</td>\n",
       "      <td>Andaman and Nicobar Islands</td>\n",
       "      <td>6677.0</td>\n",
       "      <td>NaN</td>\n",
       "      <td>33.0</td>\n",
       "    </tr>\n",
       "  </tbody>\n",
       "</table>\n",
       "</div>"
      ],
      "text/plain": [
       "         Date                        State  TotalSamples Negative  Positive\n",
       "0  2020-04-17  Andaman and Nicobar Islands        1403.0     1210      12.0\n",
       "1  2020-04-24  Andaman and Nicobar Islands        2679.0      NaN      27.0\n",
       "2  2020-04-27  Andaman and Nicobar Islands        2848.0      NaN      33.0\n",
       "3  2020-05-01  Andaman and Nicobar Islands        3754.0      NaN      33.0\n",
       "4  2020-05-16  Andaman and Nicobar Islands        6677.0      NaN      33.0"
      ]
     },
     "execution_count": 4,
     "metadata": {},
     "output_type": "execute_result"
    }
   ],
   "source": [
    "StatewiseTestingDetails.head()"
   ]
  },
  {
   "cell_type": "code",
   "execution_count": 5,
   "metadata": {},
   "outputs": [
    {
     "data": {
      "text/html": [
       "<div>\n",
       "<style scoped>\n",
       "    .dataframe tbody tr th:only-of-type {\n",
       "        vertical-align: middle;\n",
       "    }\n",
       "\n",
       "    .dataframe tbody tr th {\n",
       "        vertical-align: top;\n",
       "    }\n",
       "\n",
       "    .dataframe thead th {\n",
       "        text-align: right;\n",
       "    }\n",
       "</style>\n",
       "<table border=\"1\" class=\"dataframe\">\n",
       "  <thead>\n",
       "    <tr style=\"text-align: right;\">\n",
       "      <th></th>\n",
       "      <th>Sno</th>\n",
       "      <th>State</th>\n",
       "      <th>Population</th>\n",
       "      <th>Rural population</th>\n",
       "      <th>Urban population</th>\n",
       "      <th>Area</th>\n",
       "      <th>Density</th>\n",
       "      <th>Gender Ratio</th>\n",
       "    </tr>\n",
       "  </thead>\n",
       "  <tbody>\n",
       "    <tr>\n",
       "      <th>0</th>\n",
       "      <td>1</td>\n",
       "      <td>Uttar Pradesh</td>\n",
       "      <td>199812341</td>\n",
       "      <td>155317278</td>\n",
       "      <td>44495063</td>\n",
       "      <td>240,928 km2 (93,023 sq mi)</td>\n",
       "      <td>828/km2 (2,140/sq mi)</td>\n",
       "      <td>912</td>\n",
       "    </tr>\n",
       "    <tr>\n",
       "      <th>1</th>\n",
       "      <td>2</td>\n",
       "      <td>Maharashtra</td>\n",
       "      <td>112374333</td>\n",
       "      <td>61556074</td>\n",
       "      <td>50818259</td>\n",
       "      <td>307,713 km2 (118,809 sq mi)</td>\n",
       "      <td>365/km2 (950/sq mi)</td>\n",
       "      <td>929</td>\n",
       "    </tr>\n",
       "    <tr>\n",
       "      <th>2</th>\n",
       "      <td>3</td>\n",
       "      <td>Bihar</td>\n",
       "      <td>104099452</td>\n",
       "      <td>92341436</td>\n",
       "      <td>11758016</td>\n",
       "      <td>94,163 km2 (36,357 sq mi)</td>\n",
       "      <td>1,102/km2 (2,850/sq mi)</td>\n",
       "      <td>918</td>\n",
       "    </tr>\n",
       "    <tr>\n",
       "      <th>3</th>\n",
       "      <td>4</td>\n",
       "      <td>West Bengal</td>\n",
       "      <td>91276115</td>\n",
       "      <td>62183113</td>\n",
       "      <td>29093002</td>\n",
       "      <td>88,752 km2 (34,267 sq mi)</td>\n",
       "      <td>1,029/km2 (2,670/sq mi)</td>\n",
       "      <td>953</td>\n",
       "    </tr>\n",
       "    <tr>\n",
       "      <th>4</th>\n",
       "      <td>5</td>\n",
       "      <td>Madhya Pradesh</td>\n",
       "      <td>72626809</td>\n",
       "      <td>52557404</td>\n",
       "      <td>20069405</td>\n",
       "      <td>308,245 km2 (119,014 sq mi)</td>\n",
       "      <td>236/km2 (610/sq mi)</td>\n",
       "      <td>931</td>\n",
       "    </tr>\n",
       "  </tbody>\n",
       "</table>\n",
       "</div>"
      ],
      "text/plain": [
       "   Sno           State  Population  Rural population  Urban population  \\\n",
       "0    1   Uttar Pradesh   199812341         155317278          44495063   \n",
       "1    2     Maharashtra   112374333          61556074          50818259   \n",
       "2    3           Bihar   104099452          92341436          11758016   \n",
       "3    4     West Bengal    91276115          62183113          29093002   \n",
       "4    5  Madhya Pradesh    72626809          52557404          20069405   \n",
       "\n",
       "                          Area                  Density  Gender Ratio  \n",
       "0   240,928 km2 (93,023 sq mi)    828/km2 (2,140/sq mi)           912  \n",
       "1  307,713 km2 (118,809 sq mi)      365/km2 (950/sq mi)           929  \n",
       "2    94,163 km2 (36,357 sq mi)  1,102/km2 (2,850/sq mi)           918  \n",
       "3    88,752 km2 (34,267 sq mi)  1,029/km2 (2,670/sq mi)           953  \n",
       "4  308,245 km2 (119,014 sq mi)      236/km2 (610/sq mi)           931  "
      ]
     },
     "execution_count": 5,
     "metadata": {},
     "output_type": "execute_result"
    }
   ],
   "source": [
    "population_india_census2011.head()"
   ]
  },
  {
   "cell_type": "code",
   "execution_count": 6,
   "metadata": {},
   "outputs": [
    {
     "data": {
      "text/plain": [
       "5270    0.0\n",
       "5291    0.0\n",
       "5290    0.0\n",
       "5289    0.0\n",
       "5288    0.0\n",
       "Name: Positive, dtype: float64"
      ]
     },
     "execution_count": 6,
     "metadata": {},
     "output_type": "execute_result"
    }
   ],
   "source": [
    "StatewiseTestingDetails['Positive'].sort_values().head()"
   ]
  },
  {
   "cell_type": "code",
   "execution_count": 7,
   "metadata": {},
   "outputs": [
    {
     "data": {
      "text/plain": [
       "4597    1638961.0\n",
       "4596    1632544.0\n",
       "4593    1609516.0\n",
       "4591    1595381.0\n",
       "4590    1586321.0\n",
       "Name: Positive, dtype: float64"
      ]
     },
     "execution_count": 7,
     "metadata": {},
     "output_type": "execute_result"
    }
   ],
   "source": [
    "StatewiseTestingDetails['Positive'].sort_values(ascending=False).head()"
   ]
  },
  {
   "cell_type": "code",
   "execution_count": 8,
   "metadata": {},
   "outputs": [
    {
     "data": {
      "text/plain": [
       "Date             2020-10-24\n",
       "State           Maharashtra\n",
       "TotalSamples    8.54804e+06\n",
       "Negative                NaN\n",
       "Positive        1.63896e+06\n",
       "Name: 4597, dtype: object"
      ]
     },
     "execution_count": 8,
     "metadata": {},
     "output_type": "execute_result"
    }
   ],
   "source": [
    "StatewiseTestingDetails.loc[4597]"
   ]
  },
  {
   "cell_type": "markdown",
   "metadata": {},
   "source": [
    "# Part II : One-Way ANOVA"
   ]
  },
  {
   "cell_type": "markdown",
   "metadata": {},
   "source": [
    "## MVI"
   ]
  },
  {
   "cell_type": "code",
   "execution_count": 9,
   "metadata": {},
   "outputs": [
    {
     "data": {
      "text/plain": [
       "<AxesSubplot:>"
      ]
     },
     "execution_count": 9,
     "metadata": {},
     "output_type": "execute_result"
    },
    {
     "data": {
      "image/png": "[encoded data removed]",
      "text/plain": [
       "<Figure size 432x288 with 1 Axes>"
      ]
     },
     "metadata": {
      "needs_background": "light"
     },
     "output_type": "display_data"
    }
   ],
   "source": [
    "# Visualize missing data\n",
    "sns.heatmap(StatewiseTestingDetails.isnull(), cmap='viridis', cbar=False, yticklabels=False)"
   ]
  },
  {
   "cell_type": "code",
   "execution_count": 10,
   "metadata": {},
   "outputs": [
    {
     "data": {
      "text/html": [
       "<div>\n",
       "<style scoped>\n",
       "    .dataframe tbody tr th:only-of-type {\n",
       "        vertical-align: middle;\n",
       "    }\n",
       "\n",
       "    .dataframe tbody tr th {\n",
       "        vertical-align: top;\n",
       "    }\n",
       "\n",
       "    .dataframe thead th {\n",
       "        text-align: right;\n",
       "    }\n",
       "</style>\n",
       "<table border=\"1\" class=\"dataframe\">\n",
       "  <thead>\n",
       "    <tr style=\"text-align: right;\">\n",
       "      <th></th>\n",
       "      <th>Date</th>\n",
       "      <th>State</th>\n",
       "      <th>TotalSamples</th>\n",
       "      <th>Negative</th>\n",
       "      <th>Positive</th>\n",
       "      <th>Pos_percent</th>\n",
       "    </tr>\n",
       "  </thead>\n",
       "  <tbody>\n",
       "    <tr>\n",
       "      <th>0</th>\n",
       "      <td>2020-04-17</td>\n",
       "      <td>Andaman and Nicobar Islands</td>\n",
       "      <td>1403.0</td>\n",
       "      <td>1210</td>\n",
       "      <td>12.0</td>\n",
       "      <td>0.008553</td>\n",
       "    </tr>\n",
       "    <tr>\n",
       "      <th>1</th>\n",
       "      <td>2020-04-24</td>\n",
       "      <td>Andaman and Nicobar Islands</td>\n",
       "      <td>2679.0</td>\n",
       "      <td>NaN</td>\n",
       "      <td>27.0</td>\n",
       "      <td>0.010078</td>\n",
       "    </tr>\n",
       "    <tr>\n",
       "      <th>2</th>\n",
       "      <td>2020-04-27</td>\n",
       "      <td>Andaman and Nicobar Islands</td>\n",
       "      <td>2848.0</td>\n",
       "      <td>NaN</td>\n",
       "      <td>33.0</td>\n",
       "      <td>0.011587</td>\n",
       "    </tr>\n",
       "    <tr>\n",
       "      <th>3</th>\n",
       "      <td>2020-05-01</td>\n",
       "      <td>Andaman and Nicobar Islands</td>\n",
       "      <td>3754.0</td>\n",
       "      <td>NaN</td>\n",
       "      <td>33.0</td>\n",
       "      <td>0.008791</td>\n",
       "    </tr>\n",
       "    <tr>\n",
       "      <th>4</th>\n",
       "      <td>2020-05-16</td>\n",
       "      <td>Andaman and Nicobar Islands</td>\n",
       "      <td>6677.0</td>\n",
       "      <td>NaN</td>\n",
       "      <td>33.0</td>\n",
       "      <td>0.004942</td>\n",
       "    </tr>\n",
       "  </tbody>\n",
       "</table>\n",
       "</div>"
      ],
      "text/plain": [
       "         Date                        State  TotalSamples Negative  Positive  \\\n",
       "0  2020-04-17  Andaman and Nicobar Islands        1403.0     1210      12.0   \n",
       "1  2020-04-24  Andaman and Nicobar Islands        2679.0      NaN      27.0   \n",
       "2  2020-04-27  Andaman and Nicobar Islands        2848.0      NaN      33.0   \n",
       "3  2020-05-01  Andaman and Nicobar Islands        3754.0      NaN      33.0   \n",
       "4  2020-05-16  Andaman and Nicobar Islands        6677.0      NaN      33.0   \n",
       "\n",
       "   Pos_percent  \n",
       "0     0.008553  \n",
       "1     0.010078  \n",
       "2     0.011587  \n",
       "3     0.008791  \n",
       "4     0.004942  "
      ]
     },
     "execution_count": 10,
     "metadata": {},
     "output_type": "execute_result"
    }
   ],
   "source": [
    "StatewiseTestingDetails['Pos_percent'] = StatewiseTestingDetails['Positive']/StatewiseTestingDetails['TotalSamples']\n",
    "StatewiseTestingDetails.head()"
   ]
  },
  {
   "cell_type": "code",
   "execution_count": 11,
   "metadata": {},
   "outputs": [
    {
     "data": {
      "text/plain": [
       "<AxesSubplot:>"
      ]
     },
     "execution_count": 11,
     "metadata": {},
     "output_type": "execute_result"
    },
    {
     "data": {
      "image/png": "[encoded data removed]",
      "text/plain": [
       "<Figure size 432x288 with 1 Axes>"
      ]
     },
     "metadata": {
      "needs_background": "light"
     },
     "output_type": "display_data"
    }
   ],
   "source": [
    "sns.heatmap(StatewiseTestingDetails.isnull(), cmap='viridis', cbar=False, yticklabels=False)"
   ]
  },
  {
   "cell_type": "code",
   "execution_count": 12,
   "metadata": {},
   "outputs": [
    {
     "data": {
      "text/html": [
       "<div>\n",
       "<style scoped>\n",
       "    .dataframe tbody tr th:only-of-type {\n",
       "        vertical-align: middle;\n",
       "    }\n",
       "\n",
       "    .dataframe tbody tr th {\n",
       "        vertical-align: top;\n",
       "    }\n",
       "\n",
       "    .dataframe thead th {\n",
       "        text-align: right;\n",
       "    }\n",
       "</style>\n",
       "<table border=\"1\" class=\"dataframe\">\n",
       "  <thead>\n",
       "    <tr style=\"text-align: right;\">\n",
       "      <th></th>\n",
       "      <th>State</th>\n",
       "      <th>Pos_percent_median</th>\n",
       "    </tr>\n",
       "  </thead>\n",
       "  <tbody>\n",
       "    <tr>\n",
       "      <th>0</th>\n",
       "      <td>Andaman and Nicobar Islands</td>\n",
       "      <td>0.039898</td>\n",
       "    </tr>\n",
       "    <tr>\n",
       "      <th>1</th>\n",
       "      <td>Andhra Pradesh</td>\n",
       "      <td>0.026785</td>\n",
       "    </tr>\n",
       "    <tr>\n",
       "      <th>2</th>\n",
       "      <td>Arunachal Pradesh</td>\n",
       "      <td>0.008371</td>\n",
       "    </tr>\n",
       "    <tr>\n",
       "      <th>3</th>\n",
       "      <td>Assam</td>\n",
       "      <td>0.022474</td>\n",
       "    </tr>\n",
       "    <tr>\n",
       "      <th>4</th>\n",
       "      <td>Bihar</td>\n",
       "      <td>0.044050</td>\n",
       "    </tr>\n",
       "  </tbody>\n",
       "</table>\n",
       "</div>"
      ],
      "text/plain": [
       "                         State  Pos_percent_median\n",
       "0  Andaman and Nicobar Islands            0.039898\n",
       "1               Andhra Pradesh            0.026785\n",
       "2            Arunachal Pradesh            0.008371\n",
       "3                        Assam            0.022474\n",
       "4                        Bihar            0.044050"
      ]
     },
     "execution_count": 12,
     "metadata": {},
     "output_type": "execute_result"
    }
   ],
   "source": [
    "median_pos = StatewiseTestingDetails.groupby('State')[['Pos_percent']].mean().reset_index() \\\n",
    "                                    .rename(columns={'Pos_percent':'Pos_percent_median'})\n",
    "median_pos.head()"
   ]
  },
  {
   "cell_type": "code",
   "execution_count": 13,
   "metadata": {},
   "outputs": [
    {
     "name": "stderr",
     "output_type": "stream",
     "text": [
      "<ipython-input-13-d0ae38fce79b>:3: SettingWithCopyWarning: \n",
      "A value is trying to be set on a copy of a slice from a DataFrame\n",
      "\n",
      "See the caveats in the documentation: https://pandas.pydata.org/pandas-docs/stable/user_guide/indexing.html#returning-a-view-versus-a-copy\n",
      "  StatewiseTestingDetails['Positive'][index] = int(median_pos[median_pos['State']==row['State']]['Pos_percent_median'] * row['TotalSamples'])\n"
     ]
    },
    {
     "data": {
      "text/html": [
       "<div>\n",
       "<style scoped>\n",
       "    .dataframe tbody tr th:only-of-type {\n",
       "        vertical-align: middle;\n",
       "    }\n",
       "\n",
       "    .dataframe tbody tr th {\n",
       "        vertical-align: top;\n",
       "    }\n",
       "\n",
       "    .dataframe thead th {\n",
       "        text-align: right;\n",
       "    }\n",
       "</style>\n",
       "<table border=\"1\" class=\"dataframe\">\n",
       "  <thead>\n",
       "    <tr style=\"text-align: right;\">\n",
       "      <th></th>\n",
       "      <th>Date</th>\n",
       "      <th>State</th>\n",
       "      <th>TotalSamples</th>\n",
       "      <th>Negative</th>\n",
       "      <th>Positive</th>\n",
       "      <th>Pos_percent</th>\n",
       "    </tr>\n",
       "  </thead>\n",
       "  <tbody>\n",
       "    <tr>\n",
       "      <th>0</th>\n",
       "      <td>2020-04-17</td>\n",
       "      <td>Andaman and Nicobar Islands</td>\n",
       "      <td>1403.0</td>\n",
       "      <td>1210</td>\n",
       "      <td>12.0</td>\n",
       "      <td>0.008553</td>\n",
       "    </tr>\n",
       "    <tr>\n",
       "      <th>1</th>\n",
       "      <td>2020-04-24</td>\n",
       "      <td>Andaman and Nicobar Islands</td>\n",
       "      <td>2679.0</td>\n",
       "      <td>NaN</td>\n",
       "      <td>27.0</td>\n",
       "      <td>0.010078</td>\n",
       "    </tr>\n",
       "    <tr>\n",
       "      <th>2</th>\n",
       "      <td>2020-04-27</td>\n",
       "      <td>Andaman and Nicobar Islands</td>\n",
       "      <td>2848.0</td>\n",
       "      <td>NaN</td>\n",
       "      <td>33.0</td>\n",
       "      <td>0.011587</td>\n",
       "    </tr>\n",
       "    <tr>\n",
       "      <th>3</th>\n",
       "      <td>2020-05-01</td>\n",
       "      <td>Andaman and Nicobar Islands</td>\n",
       "      <td>3754.0</td>\n",
       "      <td>NaN</td>\n",
       "      <td>33.0</td>\n",
       "      <td>0.008791</td>\n",
       "    </tr>\n",
       "    <tr>\n",
       "      <th>4</th>\n",
       "      <td>2020-05-16</td>\n",
       "      <td>Andaman and Nicobar Islands</td>\n",
       "      <td>6677.0</td>\n",
       "      <td>NaN</td>\n",
       "      <td>33.0</td>\n",
       "      <td>0.004942</td>\n",
       "    </tr>\n",
       "  </tbody>\n",
       "</table>\n",
       "</div>"
      ],
      "text/plain": [
       "         Date                        State  TotalSamples Negative  Positive  \\\n",
       "0  2020-04-17  Andaman and Nicobar Islands        1403.0     1210      12.0   \n",
       "1  2020-04-24  Andaman and Nicobar Islands        2679.0      NaN      27.0   \n",
       "2  2020-04-27  Andaman and Nicobar Islands        2848.0      NaN      33.0   \n",
       "3  2020-05-01  Andaman and Nicobar Islands        3754.0      NaN      33.0   \n",
       "4  2020-05-16  Andaman and Nicobar Islands        6677.0      NaN      33.0   \n",
       "\n",
       "   Pos_percent  \n",
       "0     0.008553  \n",
       "1     0.010078  \n",
       "2     0.011587  \n",
       "3     0.008791  \n",
       "4     0.004942  "
      ]
     },
     "execution_count": 13,
     "metadata": {},
     "output_type": "execute_result"
    }
   ],
   "source": [
    "for index,row in StatewiseTestingDetails.iterrows():\n",
    "    if pd.isnull(row['Positive']):\n",
    "        StatewiseTestingDetails['Positive'][index] = int(median_pos[median_pos['State']==row['State']]['Pos_percent_median'] * row['TotalSamples'])\n",
    "StatewiseTestingDetails.head()"
   ]
  },
  {
   "cell_type": "code",
   "execution_count": 14,
   "metadata": {},
   "outputs": [
    {
     "data": {
      "text/plain": [
       "<AxesSubplot:>"
      ]
     },
     "execution_count": 14,
     "metadata": {},
     "output_type": "execute_result"
    },
    {
     "data": {
      "image/png": "[encoded data removed]",
      "text/plain": [
       "<Figure size 432x288 with 1 Axes>"
      ]
     },
     "metadata": {
      "needs_background": "light"
     },
     "output_type": "display_data"
    }
   ],
   "source": [
    "sns.heatmap(StatewiseTestingDetails.isnull(), cmap='viridis', cbar=False, yticklabels=False)"
   ]
  },
  {
   "cell_type": "markdown",
   "metadata": {},
   "source": [
    "## Merge Datasets"
   ]
  },
  {
   "cell_type": "code",
   "execution_count": 15,
   "metadata": {},
   "outputs": [
    {
     "data": {
      "text/plain": [
       "(8066, 13)"
      ]
     },
     "execution_count": 15,
     "metadata": {},
     "output_type": "execute_result"
    }
   ],
   "source": [
    "# Merge datasets\n",
    "data = pd.merge(StatewiseTestingDetails, population_india_census2011, on='State', how='left')\n",
    "data.shape"
   ]
  },
  {
   "cell_type": "code",
   "execution_count": 16,
   "metadata": {},
   "outputs": [
    {
     "data": {
      "text/html": [
       "<div>\n",
       "<style scoped>\n",
       "    .dataframe tbody tr th:only-of-type {\n",
       "        vertical-align: middle;\n",
       "    }\n",
       "\n",
       "    .dataframe tbody tr th {\n",
       "        vertical-align: top;\n",
       "    }\n",
       "\n",
       "    .dataframe thead th {\n",
       "        text-align: right;\n",
       "    }\n",
       "</style>\n",
       "<table border=\"1\" class=\"dataframe\">\n",
       "  <thead>\n",
       "    <tr style=\"text-align: right;\">\n",
       "      <th></th>\n",
       "      <th>Date</th>\n",
       "      <th>State</th>\n",
       "      <th>TotalSamples</th>\n",
       "      <th>Negative</th>\n",
       "      <th>Positive</th>\n",
       "      <th>Pos_percent</th>\n",
       "      <th>Sno</th>\n",
       "      <th>Population</th>\n",
       "      <th>Rural population</th>\n",
       "      <th>Urban population</th>\n",
       "      <th>Area</th>\n",
       "      <th>Density</th>\n",
       "      <th>Gender Ratio</th>\n",
       "    </tr>\n",
       "  </thead>\n",
       "  <tbody>\n",
       "    <tr>\n",
       "      <th>0</th>\n",
       "      <td>2020-04-17</td>\n",
       "      <td>Andaman and Nicobar Islands</td>\n",
       "      <td>1403.0</td>\n",
       "      <td>1210</td>\n",
       "      <td>12.0</td>\n",
       "      <td>0.008553</td>\n",
       "      <td>34</td>\n",
       "      <td>380581</td>\n",
       "      <td>237093</td>\n",
       "      <td>143488</td>\n",
       "      <td>8,249 km2 (3,185 sq mi)</td>\n",
       "      <td>46/km2 (120/sq mi)</td>\n",
       "      <td>876</td>\n",
       "    </tr>\n",
       "    <tr>\n",
       "      <th>1</th>\n",
       "      <td>2020-04-24</td>\n",
       "      <td>Andaman and Nicobar Islands</td>\n",
       "      <td>2679.0</td>\n",
       "      <td>NaN</td>\n",
       "      <td>27.0</td>\n",
       "      <td>0.010078</td>\n",
       "      <td>34</td>\n",
       "      <td>380581</td>\n",
       "      <td>237093</td>\n",
       "      <td>143488</td>\n",
       "      <td>8,249 km2 (3,185 sq mi)</td>\n",
       "      <td>46/km2 (120/sq mi)</td>\n",
       "      <td>876</td>\n",
       "    </tr>\n",
       "    <tr>\n",
       "      <th>2</th>\n",
       "      <td>2020-04-27</td>\n",
       "      <td>Andaman and Nicobar Islands</td>\n",
       "      <td>2848.0</td>\n",
       "      <td>NaN</td>\n",
       "      <td>33.0</td>\n",
       "      <td>0.011587</td>\n",
       "      <td>34</td>\n",
       "      <td>380581</td>\n",
       "      <td>237093</td>\n",
       "      <td>143488</td>\n",
       "      <td>8,249 km2 (3,185 sq mi)</td>\n",
       "      <td>46/km2 (120/sq mi)</td>\n",
       "      <td>876</td>\n",
       "    </tr>\n",
       "  </tbody>\n",
       "</table>\n",
       "</div>"
      ],
      "text/plain": [
       "         Date                        State  TotalSamples Negative  Positive  \\\n",
       "0  2020-04-17  Andaman and Nicobar Islands        1403.0     1210      12.0   \n",
       "1  2020-04-24  Andaman and Nicobar Islands        2679.0      NaN      27.0   \n",
       "2  2020-04-27  Andaman and Nicobar Islands        2848.0      NaN      33.0   \n",
       "\n",
       "   Pos_percent  Sno  Population  Rural population  Urban population  \\\n",
       "0     0.008553   34      380581            237093            143488   \n",
       "1     0.010078   34      380581            237093            143488   \n",
       "2     0.011587   34      380581            237093            143488   \n",
       "\n",
       "                      Area             Density  Gender Ratio  \n",
       "0  8,249 km2 (3,185 sq mi)  46/km2 (120/sq mi)           876  \n",
       "1  8,249 km2 (3,185 sq mi)  46/km2 (120/sq mi)           876  \n",
       "2  8,249 km2 (3,185 sq mi)  46/km2 (120/sq mi)           876  "
      ]
     },
     "execution_count": 16,
     "metadata": {},
     "output_type": "execute_result"
    }
   ],
   "source": [
    "data.head(3)"
   ]
  },
  {
   "cell_type": "code",
   "execution_count": 17,
   "metadata": {},
   "outputs": [
    {
     "data": {
      "text/plain": [
       "<AxesSubplot:>"
      ]
     },
     "execution_count": 17,
     "metadata": {},
     "output_type": "execute_result"
    },
    {
     "data": {
      "image/png": "[encoded data removed]",
      "text/plain": [
       "<Figure size 432x288 with 1 Axes>"
      ]
     },
     "metadata": {
      "needs_background": "light"
     },
     "output_type": "display_data"
    }
   ],
   "source": [
    "sns.heatmap(data.isnull(), cmap='viridis', cbar=False, yticklabels=False)\n",
    "# The original census data will have a spelling mistake in 'Telangana' state name."
   ]
  },
  {
   "cell_type": "markdown",
   "metadata": {},
   "source": [
    "## Density Buckets for ANOVA"
   ]
  },
  {
   "cell_type": "code",
   "execution_count": 19,
   "metadata": {},
   "outputs": [
    {
     "data": {
      "text/html": [
       "<div>\n",
       "<style scoped>\n",
       "    .dataframe tbody tr th:only-of-type {\n",
       "        vertical-align: middle;\n",
       "    }\n",
       "\n",
       "    .dataframe tbody tr th {\n",
       "        vertical-align: top;\n",
       "    }\n",
       "\n",
       "    .dataframe thead th {\n",
       "        text-align: right;\n",
       "    }\n",
       "</style>\n",
       "<table border=\"1\" class=\"dataframe\">\n",
       "  <thead>\n",
       "    <tr style=\"text-align: right;\">\n",
       "      <th></th>\n",
       "      <th>Date</th>\n",
       "      <th>State</th>\n",
       "      <th>TotalSamples</th>\n",
       "      <th>Negative</th>\n",
       "      <th>Positive</th>\n",
       "      <th>Pos_percent</th>\n",
       "      <th>Sno</th>\n",
       "      <th>Population</th>\n",
       "      <th>Rural population</th>\n",
       "      <th>Urban population</th>\n",
       "      <th>Area</th>\n",
       "      <th>Density</th>\n",
       "      <th>Gender Ratio</th>\n",
       "      <th>Density_int</th>\n",
       "    </tr>\n",
       "  </thead>\n",
       "  <tbody>\n",
       "    <tr>\n",
       "      <th>8063</th>\n",
       "      <td>2020-12-06</td>\n",
       "      <td>West Bengal</td>\n",
       "      <td>6135854.0</td>\n",
       "      <td>NaN</td>\n",
       "      <td>308611.0</td>\n",
       "      <td>NaN</td>\n",
       "      <td>4</td>\n",
       "      <td>91276115</td>\n",
       "      <td>62183113</td>\n",
       "      <td>29093002</td>\n",
       "      <td>88,752 km2 (34,267 sq mi)</td>\n",
       "      <td>1,029/km2 (2,670/sq mi)</td>\n",
       "      <td>953</td>\n",
       "      <td>1029.0</td>\n",
       "    </tr>\n",
       "    <tr>\n",
       "      <th>8064</th>\n",
       "      <td>2020-12-07</td>\n",
       "      <td>West Bengal</td>\n",
       "      <td>6167307.0</td>\n",
       "      <td>NaN</td>\n",
       "      <td>310193.0</td>\n",
       "      <td>NaN</td>\n",
       "      <td>4</td>\n",
       "      <td>91276115</td>\n",
       "      <td>62183113</td>\n",
       "      <td>29093002</td>\n",
       "      <td>88,752 km2 (34,267 sq mi)</td>\n",
       "      <td>1,029/km2 (2,670/sq mi)</td>\n",
       "      <td>953</td>\n",
       "      <td>1029.0</td>\n",
       "    </tr>\n",
       "    <tr>\n",
       "      <th>8065</th>\n",
       "      <td>2020-12-08</td>\n",
       "      <td>West Bengal</td>\n",
       "      <td>6211537.0</td>\n",
       "      <td>NaN</td>\n",
       "      <td>312418.0</td>\n",
       "      <td>NaN</td>\n",
       "      <td>4</td>\n",
       "      <td>91276115</td>\n",
       "      <td>62183113</td>\n",
       "      <td>29093002</td>\n",
       "      <td>88,752 km2 (34,267 sq mi)</td>\n",
       "      <td>1,029/km2 (2,670/sq mi)</td>\n",
       "      <td>953</td>\n",
       "      <td>1029.0</td>\n",
       "    </tr>\n",
       "  </tbody>\n",
       "</table>\n",
       "</div>"
      ],
      "text/plain": [
       "            Date        State  TotalSamples Negative  Positive  Pos_percent  \\\n",
       "8063  2020-12-06  West Bengal     6135854.0      NaN  308611.0          NaN   \n",
       "8064  2020-12-07  West Bengal     6167307.0      NaN  310193.0          NaN   \n",
       "8065  2020-12-08  West Bengal     6211537.0      NaN  312418.0          NaN   \n",
       "\n",
       "      Sno  Population  Rural population  Urban population  \\\n",
       "8063    4    91276115          62183113          29093002   \n",
       "8064    4    91276115          62183113          29093002   \n",
       "8065    4    91276115          62183113          29093002   \n",
       "\n",
       "                           Area                  Density  Gender Ratio  \\\n",
       "8063  88,752 km2 (34,267 sq mi)  1,029/km2 (2,670/sq mi)           953   \n",
       "8064  88,752 km2 (34,267 sq mi)  1,029/km2 (2,670/sq mi)           953   \n",
       "8065  88,752 km2 (34,267 sq mi)  1,029/km2 (2,670/sq mi)           953   \n",
       "\n",
       "      Density_int  \n",
       "8063       1029.0  \n",
       "8064       1029.0  \n",
       "8065       1029.0  "
      ]
     },
     "execution_count": 19,
     "metadata": {},
     "output_type": "execute_result"
    }
   ],
   "source": [
    "data['Density_int'] = data['Density'].apply(lambda x : float(x.split('/')[0].replace(',','')))\n",
    "data.tail(3)"
   ]
  },
  {
   "cell_type": "code",
   "execution_count": 20,
   "metadata": {},
   "outputs": [
    {
     "name": "stderr",
     "output_type": "stream",
     "text": [
      "<ipython-input-20-ac27bafac4a9>:4: SettingWithCopyWarning: \n",
      "A value is trying to be set on a copy of a slice from a DataFrame\n",
      "\n",
      "See the caveats in the documentation: https://pandas.pydata.org/pandas-docs/stable/user_guide/indexing.html#returning-a-view-versus-a-copy\n",
      "  data['density_group'][index] = 'Dense1'\n",
      "C:\\Anaconda3\\lib\\site-packages\\pandas\\core\\indexing.py:670: SettingWithCopyWarning: \n",
      "A value is trying to be set on a copy of a slice from a DataFrame\n",
      "\n",
      "See the caveats in the documentation: https://pandas.pydata.org/pandas-docs/stable/user_guide/indexing.html#returning-a-view-versus-a-copy\n",
      "  iloc._setitem_with_indexer(indexer, value)\n",
      "<ipython-input-20-ac27bafac4a9>:6: SettingWithCopyWarning: \n",
      "A value is trying to be set on a copy of a slice from a DataFrame\n",
      "\n",
      "See the caveats in the documentation: https://pandas.pydata.org/pandas-docs/stable/user_guide/indexing.html#returning-a-view-versus-a-copy\n",
      "  data['density_group'][index] = 'Dense2'\n",
      "<ipython-input-20-ac27bafac4a9>:10: SettingWithCopyWarning: \n",
      "A value is trying to be set on a copy of a slice from a DataFrame\n",
      "\n",
      "See the caveats in the documentation: https://pandas.pydata.org/pandas-docs/stable/user_guide/indexing.html#returning-a-view-versus-a-copy\n",
      "  data['density_group'][index] = 'Dense4'\n",
      "<ipython-input-20-ac27bafac4a9>:8: SettingWithCopyWarning: \n",
      "A value is trying to be set on a copy of a slice from a DataFrame\n",
      "\n",
      "See the caveats in the documentation: https://pandas.pydata.org/pandas-docs/stable/user_guide/indexing.html#returning-a-view-versus-a-copy\n",
      "  data['density_group'][index] = 'Dense3'\n"
     ]
    },
    {
     "data": {
      "text/plain": [
       "Dense1    3367\n",
       "Dense2    2821\n",
       "Dense4    1381\n",
       "Dense3     497\n",
       "Name: density_group, dtype: int64"
      ]
     },
     "execution_count": 20,
     "metadata": {},
     "output_type": "execute_result"
    }
   ],
   "source": [
    "data['density_group'] = 0\n",
    "for index,row in data.iterrows():\n",
    "    if row['Density_int']<=300:\n",
    "        data['density_group'][index] = 'Dense1'\n",
    "    elif (300<row['Density_int']<=600):\n",
    "        data['density_group'][index] = 'Dense2'\n",
    "    elif (600<row['Density_int']<=900):\n",
    "        data['density_group'][index] = 'Dense3'\n",
    "    else:\n",
    "        data['density_group'][index] = 'Dense4'\n",
    "\n",
    "data['density_group'].value_counts()"
   ]
  },
  {
   "cell_type": "code",
   "execution_count": 103,
   "metadata": {},
   "outputs": [
    {
     "name": "stdout",
     "output_type": "stream",
     "text": [
      "(35, 2)\n"
     ]
    },
    {
     "data": {
      "text/html": [
       "<div>\n",
       "<style scoped>\n",
       "    .dataframe tbody tr th:only-of-type {\n",
       "        vertical-align: middle;\n",
       "    }\n",
       "\n",
       "    .dataframe tbody tr th {\n",
       "        vertical-align: top;\n",
       "    }\n",
       "\n",
       "    .dataframe thead th {\n",
       "        text-align: right;\n",
       "    }\n",
       "</style>\n",
       "<table border=\"1\" class=\"dataframe\">\n",
       "  <thead>\n",
       "    <tr style=\"text-align: right;\">\n",
       "      <th></th>\n",
       "      <th>State</th>\n",
       "      <th>density_group</th>\n",
       "    </tr>\n",
       "  </thead>\n",
       "  <tbody>\n",
       "    <tr>\n",
       "      <th>0</th>\n",
       "      <td>Andaman and Nicobar Islands</td>\n",
       "      <td>Dense1</td>\n",
       "    </tr>\n",
       "    <tr>\n",
       "      <th>208</th>\n",
       "      <td>Andhra Pradesh</td>\n",
       "      <td>Dense2</td>\n",
       "    </tr>\n",
       "    <tr>\n",
       "      <th>451</th>\n",
       "      <td>Arunachal Pradesh</td>\n",
       "      <td>Dense1</td>\n",
       "    </tr>\n",
       "    <tr>\n",
       "      <th>681</th>\n",
       "      <td>Assam</td>\n",
       "      <td>Dense2</td>\n",
       "    </tr>\n",
       "    <tr>\n",
       "      <th>905</th>\n",
       "      <td>Bihar</td>\n",
       "      <td>Dense4</td>\n",
       "    </tr>\n",
       "  </tbody>\n",
       "</table>\n",
       "</div>"
      ],
      "text/plain": [
       "                           State density_group\n",
       "0    Andaman and Nicobar Islands        Dense1\n",
       "208               Andhra Pradesh        Dense2\n",
       "451            Arunachal Pradesh        Dense1\n",
       "681                        Assam        Dense2\n",
       "905                        Bihar        Dense4"
      ]
     },
     "execution_count": 103,
     "metadata": {},
     "output_type": "execute_result"
    }
   ],
   "source": [
    "# Data Export to be used further\n",
    "stateDensity = data[['State', 'density_group']].drop_duplicates().sort_values(by='State')\n",
    "print(stateDensity.shape)\n",
    "stateDensity.head()"
   ]
  },
  {
   "cell_type": "code",
   "execution_count": 18,
   "metadata": {},
   "outputs": [],
   "source": [
    "# data.to_csv('./data/covid19_india/stateDensity.csv')"
   ]
  },
  {
   "cell_type": "code",
   "execution_count": 22,
   "metadata": {},
   "outputs": [
    {
     "data": {
      "text/plain": [
       "(77, 15)"
      ]
     },
     "execution_count": 22,
     "metadata": {},
     "output_type": "execute_result"
    }
   ],
   "source": [
    "data[data['Positive']==0].shape"
   ]
  },
  {
   "cell_type": "code",
   "execution_count": 23,
   "metadata": {},
   "outputs": [],
   "source": [
    "# If positive cases count is 0, we replace it with 1 to ensure correct data transformations.\n",
    "data['Positive'] = data['Positive'].apply(lambda x : x if x>0 else 1)"
   ]
  },
  {
   "cell_type": "code",
   "execution_count": 24,
   "metadata": {},
   "outputs": [
    {
     "data": {
      "text/plain": [
       "(8066, 4)"
      ]
     },
     "execution_count": 24,
     "metadata": {},
     "output_type": "execute_result"
    }
   ],
   "source": [
    "df=pd.DataFrame({'Dense1':data[data['density_group']=='Dense1']['Positive'],\n",
    "                 'Dense2':data[data['density_group']=='Dense2']['Positive'],\n",
    "                 'Dense3':data[data['density_group']=='Dense3']['Positive'],\n",
    "                 'Dense4':data[data['density_group']=='Dense4']['Positive']})\n",
    "df.shape"
   ]
  },
  {
   "cell_type": "code",
   "execution_count": 25,
   "metadata": {},
   "outputs": [
    {
     "data": {
      "text/html": [
       "<div>\n",
       "<style scoped>\n",
       "    .dataframe tbody tr th:only-of-type {\n",
       "        vertical-align: middle;\n",
       "    }\n",
       "\n",
       "    .dataframe tbody tr th {\n",
       "        vertical-align: top;\n",
       "    }\n",
       "\n",
       "    .dataframe thead th {\n",
       "        text-align: right;\n",
       "    }\n",
       "</style>\n",
       "<table border=\"1\" class=\"dataframe\">\n",
       "  <thead>\n",
       "    <tr style=\"text-align: right;\">\n",
       "      <th></th>\n",
       "      <th>Dense1</th>\n",
       "      <th>Dense2</th>\n",
       "      <th>Dense3</th>\n",
       "      <th>Dense4</th>\n",
       "    </tr>\n",
       "  </thead>\n",
       "  <tbody>\n",
       "    <tr>\n",
       "      <th>count</th>\n",
       "      <td>3367.000000</td>\n",
       "      <td>2.821000e+03</td>\n",
       "      <td>497.000000</td>\n",
       "      <td>1381.000000</td>\n",
       "    </tr>\n",
       "    <tr>\n",
       "      <th>mean</th>\n",
       "      <td>16980.878824</td>\n",
       "      <td>1.560195e+05</td>\n",
       "      <td>169097.788732</td>\n",
       "      <td>95230.696597</td>\n",
       "    </tr>\n",
       "    <tr>\n",
       "      <th>std</th>\n",
       "      <td>34321.099903</td>\n",
       "      <td>2.988721e+05</td>\n",
       "      <td>207156.074814</td>\n",
       "      <td>168534.664502</td>\n",
       "    </tr>\n",
       "    <tr>\n",
       "      <th>min</th>\n",
       "      <td>1.000000</td>\n",
       "      <td>2.000000e+00</td>\n",
       "      <td>265.000000</td>\n",
       "      <td>1.000000</td>\n",
       "    </tr>\n",
       "    <tr>\n",
       "      <th>25%</th>\n",
       "      <td>468.500000</td>\n",
       "      <td>4.682000e+03</td>\n",
       "      <td>3902.000000</td>\n",
       "      <td>933.000000</td>\n",
       "    </tr>\n",
       "    <tr>\n",
       "      <th>50%</th>\n",
       "      <td>2365.000000</td>\n",
       "      <td>3.651900e+04</td>\n",
       "      <td>54183.000000</td>\n",
       "      <td>7511.000000</td>\n",
       "    </tr>\n",
       "    <tr>\n",
       "      <th>75%</th>\n",
       "      <td>12043.000000</td>\n",
       "      <td>1.292870e+05</td>\n",
       "      <td>318159.000000</td>\n",
       "      <td>116993.000000</td>\n",
       "    </tr>\n",
       "    <tr>\n",
       "      <th>max</th>\n",
       "      <td>198616.000000</td>\n",
       "      <td>1.839783e+06</td>\n",
       "      <td>660205.000000</td>\n",
       "      <td>790869.000000</td>\n",
       "    </tr>\n",
       "  </tbody>\n",
       "</table>\n",
       "</div>"
      ],
      "text/plain": [
       "              Dense1        Dense2         Dense3         Dense4\n",
       "count    3367.000000  2.821000e+03     497.000000    1381.000000\n",
       "mean    16980.878824  1.560195e+05  169097.788732   95230.696597\n",
       "std     34321.099903  2.988721e+05  207156.074814  168534.664502\n",
       "min         1.000000  2.000000e+00     265.000000       1.000000\n",
       "25%       468.500000  4.682000e+03    3902.000000     933.000000\n",
       "50%      2365.000000  3.651900e+04   54183.000000    7511.000000\n",
       "75%     12043.000000  1.292870e+05  318159.000000  116993.000000\n",
       "max    198616.000000  1.839783e+06  660205.000000  790869.000000"
      ]
     },
     "execution_count": 25,
     "metadata": {},
     "output_type": "execute_result"
    }
   ],
   "source": [
    "df.describe()"
   ]
  },
  {
   "cell_type": "markdown",
   "metadata": {},
   "source": [
    "## One-Way ANOVA Test"
   ]
  },
  {
   "cell_type": "markdown",
   "metadata": {},
   "source": [
    "#### Normality Assumption"
   ]
  },
  {
   "cell_type": "code",
   "execution_count": 26,
   "metadata": {},
   "outputs": [],
   "source": [
    "# One of our ANOVA test’s assumptions is that samples should be randomly selected and\n",
    "# should be close to Gaussian Distribution.\n",
    "# So let’s select 30 random samples from each factor or level"
   ]
  },
  {
   "cell_type": "code",
   "execution_count": 27,
   "metadata": {},
   "outputs": [],
   "source": [
    "np.random.seed(7)\n",
    "dataNew=pd.DataFrame({'Dense1':random.sample(list(data[data['density_group']=='Dense1']['Positive']), 30),\n",
    "                      'Dense2':random.sample(list(data[data['density_group']=='Dense2']['Positive']), 30),\n",
    "                      'Dense3':random.sample(list(data[data['density_group']=='Dense3']['Positive']), 30),\n",
    "                      'Dense4':random.sample(list(data[data['density_group']=='Dense4']['Positive']), 30)})"
   ]
  },
  {
   "cell_type": "code",
   "execution_count": 28,
   "metadata": {},
   "outputs": [
    {
     "data": {
      "text/html": [
       "<div>\n",
       "<style scoped>\n",
       "    .dataframe tbody tr th:only-of-type {\n",
       "        vertical-align: middle;\n",
       "    }\n",
       "\n",
       "    .dataframe tbody tr th {\n",
       "        vertical-align: top;\n",
       "    }\n",
       "\n",
       "    .dataframe thead th {\n",
       "        text-align: right;\n",
       "    }\n",
       "</style>\n",
       "<table border=\"1\" class=\"dataframe\">\n",
       "  <thead>\n",
       "    <tr style=\"text-align: right;\">\n",
       "      <th></th>\n",
       "      <th>Dense1</th>\n",
       "      <th>Dense2</th>\n",
       "      <th>Dense3</th>\n",
       "      <th>Dense4</th>\n",
       "    </tr>\n",
       "  </thead>\n",
       "  <tbody>\n",
       "    <tr>\n",
       "      <th>count</th>\n",
       "      <td>30.000000</td>\n",
       "      <td>3.000000e+01</td>\n",
       "      <td>30.000000</td>\n",
       "      <td>30.000000</td>\n",
       "    </tr>\n",
       "    <tr>\n",
       "      <th>mean</th>\n",
       "      <td>5735.900000</td>\n",
       "      <td>1.588011e+05</td>\n",
       "      <td>169302.666667</td>\n",
       "      <td>37600.233333</td>\n",
       "    </tr>\n",
       "    <tr>\n",
       "      <th>std</th>\n",
       "      <td>8477.652889</td>\n",
       "      <td>2.788940e+05</td>\n",
       "      <td>215714.162543</td>\n",
       "      <td>71918.457922</td>\n",
       "    </tr>\n",
       "    <tr>\n",
       "      <th>min</th>\n",
       "      <td>35.000000</td>\n",
       "      <td>9.110000e+02</td>\n",
       "      <td>265.000000</td>\n",
       "      <td>1.000000</td>\n",
       "    </tr>\n",
       "    <tr>\n",
       "      <th>25%</th>\n",
       "      <td>461.500000</td>\n",
       "      <td>5.900750e+03</td>\n",
       "      <td>3558.250000</td>\n",
       "      <td>513.250000</td>\n",
       "    </tr>\n",
       "    <tr>\n",
       "      <th>50%</th>\n",
       "      <td>2435.500000</td>\n",
       "      <td>5.350000e+04</td>\n",
       "      <td>29015.000000</td>\n",
       "      <td>2778.500000</td>\n",
       "    </tr>\n",
       "    <tr>\n",
       "      <th>75%</th>\n",
       "      <td>5707.750000</td>\n",
       "      <td>1.265120e+05</td>\n",
       "      <td>359106.250000</td>\n",
       "      <td>40863.500000</td>\n",
       "    </tr>\n",
       "    <tr>\n",
       "      <th>max</th>\n",
       "      <td>30558.000000</td>\n",
       "      <td>1.097856e+06</td>\n",
       "      <td>599602.000000</td>\n",
       "      <td>288920.000000</td>\n",
       "    </tr>\n",
       "  </tbody>\n",
       "</table>\n",
       "</div>"
      ],
      "text/plain": [
       "             Dense1        Dense2         Dense3         Dense4\n",
       "count     30.000000  3.000000e+01      30.000000      30.000000\n",
       "mean    5735.900000  1.588011e+05  169302.666667   37600.233333\n",
       "std     8477.652889  2.788940e+05  215714.162543   71918.457922\n",
       "min       35.000000  9.110000e+02     265.000000       1.000000\n",
       "25%      461.500000  5.900750e+03    3558.250000     513.250000\n",
       "50%     2435.500000  5.350000e+04   29015.000000    2778.500000\n",
       "75%     5707.750000  1.265120e+05  359106.250000   40863.500000\n",
       "max    30558.000000  1.097856e+06  599602.000000  288920.000000"
      ]
     },
     "execution_count": 28,
     "metadata": {},
     "output_type": "execute_result"
    }
   ],
   "source": [
    "dataNew.describe()"
   ]
  },
  {
   "cell_type": "code",
   "execution_count": 29,
   "metadata": {},
   "outputs": [
    {
     "data": {
      "text/plain": [
       "<AxesSubplot:title={'center':'density Group -Dense4 & Corona Cases'}, xlabel='density Group -Dense4', ylabel='Corona Cases'>"
      ]
     },
     "execution_count": 29,
     "metadata": {},
     "output_type": "execute_result"
    },
    {
     "data": {
      "image/png": "[encoded data removed]",
      "text/plain": [
       "<Figure size 1440x720 with 4 Axes>"
      ]
     },
     "metadata": {
      "needs_background": "light"
     },
     "output_type": "display_data"
    }
   ],
   "source": [
    "#Plot different density groups\n",
    "fig = plt.figure(figsize=(20,10))\n",
    "title = fig.suptitle(\"Corona cases across different density groups\", fontsize=14)\n",
    "# fig.subplots_adjust(top=0.85, wspace=0.3)\n",
    "\n",
    "ax1 = fig.add_subplot(1,4,1)\n",
    "ax1.set_title(\"density Group-Dense1 & Corona Cases\")\n",
    "ax1.set_xlabel(\"density Group -Dense1\")\n",
    "ax1.set_ylabel(\"Corona Cases\") \n",
    "sns.kdeplot(dataNew['Dense1'], ax=ax1, shade=True, color='g')\n",
    "\n",
    "ax2 = fig.add_subplot(1,4,2)\n",
    "ax2.set_title(\"density Group -Dense2 & Corona Cases\")\n",
    "ax2.set_xlabel(\"density Group -Dense2\")\n",
    "ax2.set_ylabel(\"Corona Cases\") \n",
    "sns.kdeplot(dataNew['Dense2'], ax=ax2, shade=True, color='y')\n",
    "\n",
    "ax3 = fig.add_subplot(1,4,3)\n",
    "ax3.set_title(\"density Group -Dense3 & Corona Cases\")\n",
    "ax3.set_xlabel(\"density Group -Dense3\")\n",
    "ax3.set_ylabel(\"Corona Cases\") \n",
    "sns.kdeplot(dataNew['Dense3'], ax=ax3, shade=True, color='r')\n",
    "\n",
    "ax4 = fig.add_subplot(1,4,4)\n",
    "ax4.set_title(\"density Group -Dense4 & Corona Cases\")\n",
    "ax4.set_xlabel(\"density Group -Dense4\")\n",
    "ax4.set_ylabel(\"Corona Cases\") \n",
    "sns.kdeplot(dataNew['Dense4'], ax=ax4, shade=True, color='b')"
   ]
  },
  {
   "cell_type": "code",
   "execution_count": 30,
   "metadata": {},
   "outputs": [
    {
     "name": "stdout",
     "output_type": "stream",
     "text": [
      "Dense1: ShapiroResult(statistic=0.6839077472686768, pvalue=9.176016533274378e-07)\n",
      "Dense2: ShapiroResult(statistic=0.5888317823410034, pvalue=5.3470571970137826e-08)\n",
      "Dense3: ShapiroResult(statistic=0.7601163387298584, pvalue=1.332621195615502e-05)\n",
      "Dense4: ShapiroResult(statistic=0.5806795358657837, pvalue=4.275181453294863e-08)\n"
     ]
    }
   ],
   "source": [
    "# Normality assumption check (Shapiro-Wilk Test, H0:Normality)\n",
    "# Further, Skewness and Kurtosis can also be checked for the distributions.\n",
    "print(\"Dense1:\", stats.shapiro(dataNew['Dense1']))\n",
    "print(\"Dense2:\", stats.shapiro(dataNew['Dense2']))\n",
    "print(\"Dense3:\", stats.shapiro(dataNew['Dense3']))\n",
    "print(\"Dense4:\", stats.shapiro(dataNew['Dense4']))"
   ]
  },
  {
   "cell_type": "code",
   "execution_count": 31,
   "metadata": {},
   "outputs": [
    {
     "data": {
      "text/plain": [
       "LeveneResult(statistic=6.596258777332894, pvalue=0.0003727061054247101)"
      ]
     },
     "execution_count": 31,
     "metadata": {},
     "output_type": "execute_result"
    }
   ],
   "source": [
    "# Homogeneity of Variance assumption check (Levene's Variance Test)\n",
    "stats.levene(dataNew['Dense1'],dataNew['Dense2'],dataNew['Dense3'],dataNew['Dense4'])\n",
    "# a p-value of more than 0.05 means variances are equal among groups and we can proceed with ANOVA(and post-hoc if needed)"
   ]
  },
  {
   "cell_type": "code",
   "execution_count": 32,
   "metadata": {},
   "outputs": [
    {
     "name": "stdout",
     "output_type": "stream",
     "text": [
      "0.0955107160021047 0.06693334431350978 0.07849784830691199 0.10038340428711941\n"
     ]
    }
   ],
   "source": [
    "# BoxCox transformation to make it gaussian\n",
    "dataNew['Dense1'],fitted_lambda1 = stats.boxcox(dataNew['Dense1'])\n",
    "dataNew['Dense2'],fitted_lambda2 = stats.boxcox(dataNew['Dense2'])\n",
    "dataNew['Dense3'],fitted_lambda3 = stats.boxcox(dataNew['Dense3'])\n",
    "dataNew['Dense4'],fitted_lambda4 = stats.boxcox(dataNew['Dense4'])\n",
    "print(fitted_lambda1, fitted_lambda2, fitted_lambda3, fitted_lambda4)"
   ]
  },
  {
   "cell_type": "code",
   "execution_count": 33,
   "metadata": {},
   "outputs": [
    {
     "data": {
      "text/plain": [
       "<AxesSubplot:title={'center':'density Group -Dense4 & Corona Cases'}, xlabel='density Group -Dense4', ylabel='Corona Cases'>"
      ]
     },
     "execution_count": 33,
     "metadata": {},
     "output_type": "execute_result"
    },
    {
     "data": {
      "image/png": "[encoded data removed]",
      "text/plain": [
       "<Figure size 1440x720 with 4 Axes>"
      ]
     },
     "metadata": {
      "needs_background": "light"
     },
     "output_type": "display_data"
    }
   ],
   "source": [
    "#Plot different density groups\n",
    "fig = plt.figure(figsize=(20,10))\n",
    "title = fig.suptitle(\"Corona cases across different density groups\", fontsize=14)\n",
    "# fig.subplots_adjust(top=0.85, wspace=0.3)\n",
    "\n",
    "ax1 = fig.add_subplot(1,4,1)\n",
    "ax1.set_title(\"density Group-Dense1 & Corona Cases\")\n",
    "ax1.set_xlabel(\"density Group -Dense1\")\n",
    "ax1.set_ylabel(\"Corona Cases\") \n",
    "sns.kdeplot(dataNew['Dense1'], ax=ax1, shade=True, color='g')\n",
    "\n",
    "ax2 = fig.add_subplot(1,4,2)\n",
    "ax2.set_title(\"density Group -Dense2 & Corona Cases\")\n",
    "ax2.set_xlabel(\"density Group -Dense2\")\n",
    "ax2.set_ylabel(\"Corona Cases\") \n",
    "sns.kdeplot(dataNew['Dense2'], ax=ax2, shade=True, color='y')\n",
    "\n",
    "ax3 = fig.add_subplot(1,4,3)\n",
    "ax3.set_title(\"density Group -Dense3 & Corona Cases\")\n",
    "ax3.set_xlabel(\"density Group -Dense3\")\n",
    "ax3.set_ylabel(\"Corona Cases\") \n",
    "sns.kdeplot(dataNew['Dense3'], ax=ax3, shade=True, color='r')\n",
    "\n",
    "ax4 = fig.add_subplot(1,4,4)\n",
    "ax4.set_title(\"density Group -Dense4 & Corona Cases\")\n",
    "ax4.set_xlabel(\"density Group -Dense4\")\n",
    "ax4.set_ylabel(\"Corona Cases\") \n",
    "sns.kdeplot(dataNew['Dense4'], ax=ax4, shade=True, color='b')"
   ]
  },
  {
   "cell_type": "code",
   "execution_count": 34,
   "metadata": {},
   "outputs": [
    {
     "name": "stdout",
     "output_type": "stream",
     "text": [
      "Dense1: ShapiroResult(statistic=0.9659118056297302, pvalue=0.4341563880443573)\n",
      "Dense2: ShapiroResult(statistic=0.9528120160102844, pvalue=0.20095974206924438)\n",
      "Dense3: ShapiroResult(statistic=0.8954072594642639, pvalue=0.006496443413197994)\n",
      "Dense4: ShapiroResult(statistic=0.9590833187103271, pvalue=0.293447881937027)\n"
     ]
    }
   ],
   "source": [
    "print(\"Dense1:\", stats.shapiro(dataNew['Dense1']))\n",
    "print(\"Dense2:\", stats.shapiro(dataNew['Dense2']))\n",
    "print(\"Dense3:\", stats.shapiro(dataNew['Dense3']))\n",
    "print(\"Dense4:\", stats.shapiro(dataNew['Dense4']))"
   ]
  },
  {
   "cell_type": "code",
   "execution_count": 35,
   "metadata": {},
   "outputs": [
    {
     "data": {
      "text/plain": [
       "LeveneResult(statistic=7.624072180510082, pvalue=0.00010709709536027639)"
      ]
     },
     "execution_count": 35,
     "metadata": {},
     "output_type": "execute_result"
    }
   ],
   "source": [
    "stats.levene(dataNew['Dense1'],dataNew['Dense2'],dataNew['Dense3'],dataNew['Dense4'])"
   ]
  },
  {
   "cell_type": "code",
   "execution_count": null,
   "metadata": {},
   "outputs": [],
   "source": [
    "# Welch's ANOVA is an alternative to the Classic ANOVA and\n",
    "# can be used even if your data violates the assumption of homogeneity of variances."
   ]
  },
  {
   "cell_type": "markdown",
   "metadata": {},
   "source": [
    "#### Approach 1 : One-Way ANOVA test using statsmodels module"
   ]
  },
  {
   "cell_type": "code",
   "execution_count": 36,
   "metadata": {},
   "outputs": [
    {
     "name": "stdout",
     "output_type": "stream",
     "text": [
      "F-Statistics:5.25048163, p:0.00196536\n"
     ]
    }
   ],
   "source": [
    "F, p = stats.f_oneway(dataNew['Dense1'], dataNew['Dense2'], dataNew['Dense3'], dataNew['Dense4'])\n",
    "# To check if the mean is statistically different between any two of the 4 groups:\n",
    "# (same can be ued to determine if the overall model is significant)\n",
    "print('F-Statistics:%.8f, p:%.8f' % (F, p))"
   ]
  },
  {
   "cell_type": "code",
   "execution_count": 37,
   "metadata": {},
   "outputs": [],
   "source": [
    "# The p-value is less than 0.05.\n",
    "# Hence, we can reject the Null Hypothesis(H0:there are no differences among different density groups)."
   ]
  },
  {
   "cell_type": "markdown",
   "metadata": {},
   "source": [
    "#### Approach 2 : One-Way ANOVA test using OLS Model"
   ]
  },
  {
   "cell_type": "code",
   "execution_count": 38,
   "metadata": {},
   "outputs": [
    {
     "data": {
      "text/html": [
       "<div>\n",
       "<style scoped>\n",
       "    .dataframe tbody tr th:only-of-type {\n",
       "        vertical-align: middle;\n",
       "    }\n",
       "\n",
       "    .dataframe tbody tr th {\n",
       "        vertical-align: top;\n",
       "    }\n",
       "\n",
       "    .dataframe thead th {\n",
       "        text-align: right;\n",
       "    }\n",
       "</style>\n",
       "<table border=\"1\" class=\"dataframe\">\n",
       "  <thead>\n",
       "    <tr style=\"text-align: right;\">\n",
       "      <th></th>\n",
       "      <th>density_group</th>\n",
       "      <th>Count</th>\n",
       "    </tr>\n",
       "  </thead>\n",
       "  <tbody>\n",
       "    <tr>\n",
       "      <th>0</th>\n",
       "      <td>Dense1</td>\n",
       "      <td>8.684915</td>\n",
       "    </tr>\n",
       "    <tr>\n",
       "      <th>1</th>\n",
       "      <td>Dense2</td>\n",
       "      <td>17.872558</td>\n",
       "    </tr>\n",
       "    <tr>\n",
       "      <th>2</th>\n",
       "      <td>Dense3</td>\n",
       "      <td>23.392496</td>\n",
       "    </tr>\n",
       "    <tr>\n",
       "      <th>3</th>\n",
       "      <td>Dense4</td>\n",
       "      <td>0.717831</td>\n",
       "    </tr>\n",
       "    <tr>\n",
       "      <th>4</th>\n",
       "      <td>Dense1</td>\n",
       "      <td>7.914242</td>\n",
       "    </tr>\n",
       "  </tbody>\n",
       "</table>\n",
       "</div>"
      ],
      "text/plain": [
       "  density_group      Count\n",
       "0        Dense1   8.684915\n",
       "1        Dense2  17.872558\n",
       "2        Dense3  23.392496\n",
       "3        Dense4   0.717831\n",
       "4        Dense1   7.914242"
      ]
     },
     "execution_count": 38,
     "metadata": {},
     "output_type": "execute_result"
    }
   ],
   "source": [
    "# Rearrange Dataframe\n",
    "dataNew2 = dataNew.stack().reset_index().rename(columns={'level_1':'density_group', 0:'Count'})\n",
    "del dataNew2['level_0']\n",
    "dataNew2.head()"
   ]
  },
  {
   "cell_type": "code",
   "execution_count": 39,
   "metadata": {},
   "outputs": [
    {
     "data": {
      "text/html": [
       "<table class=\"simpletable\">\n",
       "<caption>OLS Regression Results</caption>\n",
       "<tr>\n",
       "  <th>Dep. Variable:</th>          <td>Count</td>      <th>  R-squared:         </th> <td>   0.120</td>\n",
       "</tr>\n",
       "<tr>\n",
       "  <th>Model:</th>                   <td>OLS</td>       <th>  Adj. R-squared:    </th> <td>   0.097</td>\n",
       "</tr>\n",
       "<tr>\n",
       "  <th>Method:</th>             <td>Least Squares</td>  <th>  F-statistic:       </th> <td>   5.250</td>\n",
       "</tr>\n",
       "<tr>\n",
       "  <th>Date:</th>             <td>Tue, 23 Mar 2021</td> <th>  Prob (F-statistic):</th>  <td>0.00197</td>\n",
       "</tr>\n",
       "<tr>\n",
       "  <th>Time:</th>                 <td>22:14:32</td>     <th>  Log-Likelihood:    </th> <td> -370.43</td>\n",
       "</tr>\n",
       "<tr>\n",
       "  <th>No. Observations:</th>      <td>   120</td>      <th>  AIC:               </th> <td>   748.9</td>\n",
       "</tr>\n",
       "<tr>\n",
       "  <th>Df Residuals:</th>          <td>   116</td>      <th>  BIC:               </th> <td>   760.0</td>\n",
       "</tr>\n",
       "<tr>\n",
       "  <th>Df Model:</th>              <td>     3</td>      <th>                     </th>     <td> </td>   \n",
       "</tr>\n",
       "<tr>\n",
       "  <th>Covariance Type:</th>      <td>nonrobust</td>    <th>                     </th>     <td> </td>   \n",
       "</tr>\n",
       "</table>\n",
       "<table class=\"simpletable\">\n",
       "<tr>\n",
       "               <td></td>                 <th>coef</th>     <th>std err</th>      <th>t</th>      <th>P>|t|</th>  <th>[0.025</th>    <th>0.975]</th>  \n",
       "</tr>\n",
       "<tr>\n",
       "  <th>Intercept</th>                  <td>   11.0954</td> <td>    0.984</td> <td>   11.271</td> <td> 0.000</td> <td>    9.146</td> <td>   13.045</td>\n",
       "</tr>\n",
       "<tr>\n",
       "  <th>C(density_group)[T.Dense2]</th> <td>    4.3570</td> <td>    1.392</td> <td>    3.130</td> <td> 0.002</td> <td>    1.600</td> <td>    7.114</td>\n",
       "</tr>\n",
       "<tr>\n",
       "  <th>C(density_group)[T.Dense3]</th> <td>    4.8584</td> <td>    1.392</td> <td>    3.490</td> <td> 0.001</td> <td>    2.101</td> <td>    7.616</td>\n",
       "</tr>\n",
       "<tr>\n",
       "  <th>C(density_group)[T.Dense4]</th> <td>    1.9256</td> <td>    1.392</td> <td>    1.383</td> <td> 0.169</td> <td>   -0.832</td> <td>    4.683</td>\n",
       "</tr>\n",
       "</table>\n",
       "<table class=\"simpletable\">\n",
       "<tr>\n",
       "  <th>Omnibus:</th>       <td> 1.970</td> <th>  Durbin-Watson:     </th> <td>   2.044</td>\n",
       "</tr>\n",
       "<tr>\n",
       "  <th>Prob(Omnibus):</th> <td> 0.373</td> <th>  Jarque-Bera (JB):  </th> <td>   1.556</td>\n",
       "</tr>\n",
       "<tr>\n",
       "  <th>Skew:</th>          <td>-0.098</td> <th>  Prob(JB):          </th> <td>   0.459</td>\n",
       "</tr>\n",
       "<tr>\n",
       "  <th>Kurtosis:</th>      <td> 2.478</td> <th>  Cond. No.          </th> <td>    4.79</td>\n",
       "</tr>\n",
       "</table><br/><br/>Notes:<br/>[1] Standard Errors assume that the covariance matrix of the errors is correctly specified."
      ],
      "text/plain": [
       "<class 'statsmodels.iolib.summary.Summary'>\n",
       "\"\"\"\n",
       "                            OLS Regression Results                            \n",
       "==============================================================================\n",
       "Dep. Variable:                  Count   R-squared:                       0.120\n",
       "Model:                            OLS   Adj. R-squared:                  0.097\n",
       "Method:                 Least Squares   F-statistic:                     5.250\n",
       "Date:                Tue, 23 Mar 2021   Prob (F-statistic):            0.00197\n",
       "Time:                        22:14:32   Log-Likelihood:                -370.43\n",
       "No. Observations:                 120   AIC:                             748.9\n",
       "Df Residuals:                     116   BIC:                             760.0\n",
       "Df Model:                           3                                         \n",
       "Covariance Type:            nonrobust                                         \n",
       "==============================================================================================\n",
       "                                 coef    std err          t      P>|t|      [0.025      0.975]\n",
       "----------------------------------------------------------------------------------------------\n",
       "Intercept                     11.0954      0.984     11.271      0.000       9.146      13.045\n",
       "C(density_group)[T.Dense2]     4.3570      1.392      3.130      0.002       1.600       7.114\n",
       "C(density_group)[T.Dense3]     4.8584      1.392      3.490      0.001       2.101       7.616\n",
       "C(density_group)[T.Dense4]     1.9256      1.392      1.383      0.169      -0.832       4.683\n",
       "==============================================================================\n",
       "Omnibus:                        1.970   Durbin-Watson:                   2.044\n",
       "Prob(Omnibus):                  0.373   Jarque-Bera (JB):                1.556\n",
       "Skew:                          -0.098   Prob(JB):                        0.459\n",
       "Kurtosis:                       2.478   Cond. No.                         4.79\n",
       "==============================================================================\n",
       "\n",
       "Notes:\n",
       "[1] Standard Errors assume that the covariance matrix of the errors is correctly specified.\n",
       "\"\"\""
      ]
     },
     "execution_count": 39,
     "metadata": {},
     "output_type": "execute_result"
    }
   ],
   "source": [
    "# Using the OLS Model\n",
    "model = ols('Count~C(density_group)', dataNew2).fit()\n",
    "model.summary()"
   ]
  },
  {
   "cell_type": "code",
   "execution_count": 40,
   "metadata": {},
   "outputs": [
    {
     "name": "stdout",
     "output_type": "stream",
     "text": [
      "Overall model F( 3, 116) =  5.25048163, p =  0.00196536\n"
     ]
    }
   ],
   "source": [
    "# Seeing if the overall model is significant\n",
    "print(f\"Overall model F({model.df_model: .0f},{model.df_resid: .0f}) = {model.fvalue: .8f}, p = {model.f_pvalue: .8f}\")"
   ]
  },
  {
   "cell_type": "code",
   "execution_count": 41,
   "metadata": {},
   "outputs": [
    {
     "data": {
      "text/html": [
       "<div>\n",
       "<style scoped>\n",
       "    .dataframe tbody tr th:only-of-type {\n",
       "        vertical-align: middle;\n",
       "    }\n",
       "\n",
       "    .dataframe tbody tr th {\n",
       "        vertical-align: top;\n",
       "    }\n",
       "\n",
       "    .dataframe thead th {\n",
       "        text-align: right;\n",
       "    }\n",
       "</style>\n",
       "<table border=\"1\" class=\"dataframe\">\n",
       "  <thead>\n",
       "    <tr style=\"text-align: right;\">\n",
       "      <th></th>\n",
       "      <th>sum_sq</th>\n",
       "      <th>df</th>\n",
       "      <th>F</th>\n",
       "      <th>PR(&gt;F)</th>\n",
       "    </tr>\n",
       "  </thead>\n",
       "  <tbody>\n",
       "    <tr>\n",
       "      <th>C(density_group)</th>\n",
       "      <td>457.946112</td>\n",
       "      <td>3.0</td>\n",
       "      <td>5.250482</td>\n",
       "      <td>0.001965</td>\n",
       "    </tr>\n",
       "    <tr>\n",
       "      <th>Residual</th>\n",
       "      <td>3372.500067</td>\n",
       "      <td>116.0</td>\n",
       "      <td>NaN</td>\n",
       "      <td>NaN</td>\n",
       "    </tr>\n",
       "  </tbody>\n",
       "</table>\n",
       "</div>"
      ],
      "text/plain": [
       "                       sum_sq     df         F    PR(>F)\n",
       "C(density_group)   457.946112    3.0  5.250482  0.001965\n",
       "Residual          3372.500067  116.0       NaN       NaN"
      ]
     },
     "execution_count": 41,
     "metadata": {},
     "output_type": "execute_result"
    }
   ],
   "source": [
    "# Creating the ANOVA table\n",
    "anova_lm(model, typ=2)"
   ]
  },
  {
   "cell_type": "code",
   "execution_count": 42,
   "metadata": {},
   "outputs": [],
   "source": [
    "# Now we know that there is an overall significant effect of density_group on corona positive cases, but we don't know where."
   ]
  },
  {
   "cell_type": "markdown",
   "metadata": {},
   "source": [
    "## Post Hoc Tests (One-Way ANOVA)"
   ]
  },
  {
   "cell_type": "code",
   "execution_count": 43,
   "metadata": {},
   "outputs": [],
   "source": [
    "# Use Tukey HSD if homogeneity of variances assumption was met.\n",
    "# If your data did not meet the homogeneity of variances assumption, you should consider running the Games Howell post hoc test."
   ]
  },
  {
   "cell_type": "code",
   "execution_count": 44,
   "metadata": {},
   "outputs": [
    {
     "name": "stdout",
     "output_type": "stream",
     "text": [
      "Multiple Comparison of Means - Tukey HSD, FWER=0.05\n",
      "===================================================\n",
      "group1 group2 meandiff p-adj   lower  upper  reject\n",
      "---------------------------------------------------\n",
      "Dense1 Dense2    4.357 0.0117  0.7278 7.9862   True\n",
      "Dense1 Dense3   4.8584 0.0038  1.2291 8.4876   True\n",
      "Dense1 Dense4   1.9256  0.511 -1.7037 5.5548  False\n",
      "Dense2 Dense3   0.5014    0.9 -3.1279 4.1306  False\n",
      "Dense2 Dense4  -2.4314 0.3048 -6.0607 1.1978  False\n",
      "Dense3 Dense4  -2.9328 0.1572  -6.562 0.6964  False\n",
      "---------------------------------------------------\n"
     ]
    }
   ],
   "source": [
    "# We'll use Tukey HSD Test to find out where the group differences are.\n",
    "mc = multicomp.MultiComparison(dataNew2['Count'], dataNew2['density_group'])\n",
    "mc_result = mc.tukeyhsd()\n",
    "print(mc_result)"
   ]
  },
  {
   "cell_type": "code",
   "execution_count": 47,
   "metadata": {},
   "outputs": [],
   "source": [
    "# Rejection of null hypothesis in groups(1&2, 1&3) indicate that they have statistically significant differences in means."
   ]
  },
  {
   "cell_type": "markdown",
   "metadata": {},
   "source": [
    "#### Assumption Checks/ Model Diagnostics"
   ]
  },
  {
   "cell_type": "code",
   "execution_count": 48,
   "metadata": {},
   "outputs": [],
   "source": [
    "# When working with linear regression and ANOVA models,\n",
    "# the assumptions pertain to the residuals and not the variables themselves."
   ]
  },
  {
   "cell_type": "code",
   "execution_count": 49,
   "metadata": {},
   "outputs": [
    {
     "data": {
      "text/plain": [
       "ShapiroResult(statistic=0.9837660193443298, pvalue=0.15880726277828217)"
      ]
     },
     "execution_count": 49,
     "metadata": {},
     "output_type": "execute_result"
    }
   ],
   "source": [
    "# Normality Assumption Check : Method 1 (Shapiro Wilk)\n",
    "stats.shapiro(model.resid)"
   ]
  },
  {
   "cell_type": "code",
   "execution_count": 50,
   "metadata": {},
   "outputs": [
    {
     "data": {
      "image/png": "[encoded data removed]",
      "text/plain": [
       "<Figure size 432x288 with 1 Axes>"
      ]
     },
     "metadata": {
      "needs_background": "light"
     },
     "output_type": "display_data"
    }
   ],
   "source": [
    "# Normality Assumption Check : Method 2 (Q-Q Plot)\n",
    "res = model.resid\n",
    "fig = sm.qqplot(res, line='s')"
   ]
  },
  {
   "cell_type": "code",
   "execution_count": 51,
   "metadata": {},
   "outputs": [
    {
     "name": "stdout",
     "output_type": "stream",
     "text": [
      "14.869185908809236 0.0019319205695627203\n"
     ]
    },
    {
     "data": {
      "text/plain": [
       "LeveneResult(statistic=7.624072180510082, pvalue=0.00010709709536027639)"
      ]
     },
     "execution_count": 51,
     "metadata": {},
     "output_type": "execute_result"
    }
   ],
   "source": [
    "# Homogeneity of Variance Assumption Check : Using two different methods (Bartlett's Test and Levene's Test)\n",
    "\n",
    "w, pvalue = stats.bartlett(dataNew2[dataNew2['density_group']=='Dense1']['Count'],\n",
    "                           dataNew2[dataNew2['density_group']=='Dense2']['Count'],\n",
    "                           dataNew2[dataNew2['density_group']=='Dense3']['Count'],\n",
    "                           dataNew2[dataNew2['density_group']=='Dense4']['Count'])\n",
    "print(w, pvalue)\n",
    "\n",
    "stats.levene(dataNew['Dense1'],dataNew['Dense2'],dataNew['Dense3'],dataNew['Dense4'])"
   ]
  },
  {
   "cell_type": "markdown",
   "metadata": {},
   "source": [
    "## Part III : Two-Way ANOVA"
   ]
  },
  {
   "cell_type": "code",
   "execution_count": 105,
   "metadata": {},
   "outputs": [
    {
     "data": {
      "text/html": [
       "<div>\n",
       "<style scoped>\n",
       "    .dataframe tbody tr th:only-of-type {\n",
       "        vertical-align: middle;\n",
       "    }\n",
       "\n",
       "    .dataframe tbody tr th {\n",
       "        vertical-align: top;\n",
       "    }\n",
       "\n",
       "    .dataframe thead th {\n",
       "        text-align: right;\n",
       "    }\n",
       "</style>\n",
       "<table border=\"1\" class=\"dataframe\">\n",
       "  <thead>\n",
       "    <tr style=\"text-align: right;\">\n",
       "      <th></th>\n",
       "      <th>State</th>\n",
       "      <th>density_group</th>\n",
       "    </tr>\n",
       "  </thead>\n",
       "  <tbody>\n",
       "    <tr>\n",
       "      <th>0</th>\n",
       "      <td>Andaman and Nicobar Islands</td>\n",
       "      <td>Dense1</td>\n",
       "    </tr>\n",
       "    <tr>\n",
       "      <th>208</th>\n",
       "      <td>Andhra Pradesh</td>\n",
       "      <td>Dense2</td>\n",
       "    </tr>\n",
       "    <tr>\n",
       "      <th>451</th>\n",
       "      <td>Arunachal Pradesh</td>\n",
       "      <td>Dense1</td>\n",
       "    </tr>\n",
       "  </tbody>\n",
       "</table>\n",
       "</div>"
      ],
      "text/plain": [
       "                           State density_group\n",
       "0    Andaman and Nicobar Islands        Dense1\n",
       "208               Andhra Pradesh        Dense2\n",
       "451            Arunachal Pradesh        Dense1"
      ]
     },
     "execution_count": 105,
     "metadata": {},
     "output_type": "execute_result"
    }
   ],
   "source": [
    "stateDensity.head(3)"
   ]
  },
  {
   "cell_type": "code",
   "execution_count": 54,
   "metadata": {},
   "outputs": [
    {
     "data": {
      "text/html": [
       "<div>\n",
       "<style scoped>\n",
       "    .dataframe tbody tr th:only-of-type {\n",
       "        vertical-align: middle;\n",
       "    }\n",
       "\n",
       "    .dataframe tbody tr th {\n",
       "        vertical-align: top;\n",
       "    }\n",
       "\n",
       "    .dataframe thead th {\n",
       "        text-align: right;\n",
       "    }\n",
       "</style>\n",
       "<table border=\"1\" class=\"dataframe\">\n",
       "  <thead>\n",
       "    <tr style=\"text-align: right;\">\n",
       "      <th></th>\n",
       "      <th>id</th>\n",
       "      <th>government_id</th>\n",
       "      <th>diagnosed_date</th>\n",
       "      <th>age</th>\n",
       "      <th>gender</th>\n",
       "      <th>detected_city</th>\n",
       "      <th>detected_district</th>\n",
       "      <th>State</th>\n",
       "      <th>nationality</th>\n",
       "      <th>current_status</th>\n",
       "      <th>status_change_date</th>\n",
       "      <th>notes</th>\n",
       "    </tr>\n",
       "  </thead>\n",
       "  <tbody>\n",
       "    <tr>\n",
       "      <th>0</th>\n",
       "      <td>0</td>\n",
       "      <td>KL-TS-P1</td>\n",
       "      <td>2020-01-30</td>\n",
       "      <td>20</td>\n",
       "      <td>F</td>\n",
       "      <td>Thrissur</td>\n",
       "      <td>Thrissur</td>\n",
       "      <td>Kerala</td>\n",
       "      <td>India</td>\n",
       "      <td>Recovered</td>\n",
       "      <td>14-02-2020</td>\n",
       "      <td>Travelled from Wuhan</td>\n",
       "    </tr>\n",
       "    <tr>\n",
       "      <th>1</th>\n",
       "      <td>1</td>\n",
       "      <td>KL-AL-P1</td>\n",
       "      <td>2020-02-02</td>\n",
       "      <td>NaN</td>\n",
       "      <td>NaN</td>\n",
       "      <td>Alappuzha</td>\n",
       "      <td>Alappuzha</td>\n",
       "      <td>Kerala</td>\n",
       "      <td>India</td>\n",
       "      <td>Recovered</td>\n",
       "      <td>14-02-2020</td>\n",
       "      <td>Travelled from Wuhan</td>\n",
       "    </tr>\n",
       "    <tr>\n",
       "      <th>2</th>\n",
       "      <td>2</td>\n",
       "      <td>KL-KS-P1</td>\n",
       "      <td>2020-03-02</td>\n",
       "      <td>NaN</td>\n",
       "      <td>NaN</td>\n",
       "      <td>Kasaragod</td>\n",
       "      <td>Kasaragod</td>\n",
       "      <td>Kerala</td>\n",
       "      <td>India</td>\n",
       "      <td>Recovered</td>\n",
       "      <td>14-02-2020</td>\n",
       "      <td>Travelled from Wuhan</td>\n",
       "    </tr>\n",
       "  </tbody>\n",
       "</table>\n",
       "</div>"
      ],
      "text/plain": [
       "   id government_id diagnosed_date  age gender detected_city  \\\n",
       "0   0      KL-TS-P1     2020-01-30   20      F      Thrissur   \n",
       "1   1      KL-AL-P1     2020-02-02  NaN    NaN     Alappuzha   \n",
       "2   2      KL-KS-P1     2020-03-02  NaN    NaN     Kasaragod   \n",
       "\n",
       "  detected_district   State nationality current_status status_change_date  \\\n",
       "0          Thrissur  Kerala       India      Recovered         14-02-2020   \n",
       "1         Alappuzha  Kerala       India      Recovered         14-02-2020   \n",
       "2         Kasaragod  Kerala       India      Recovered         14-02-2020   \n",
       "\n",
       "                  notes  \n",
       "0  Travelled from Wuhan  \n",
       "1  Travelled from Wuhan  \n",
       "2  Travelled from Wuhan  "
      ]
     },
     "execution_count": 54,
     "metadata": {},
     "output_type": "execute_result"
    }
   ],
   "source": [
    "IndividualDetails.head(3)"
   ]
  },
  {
   "cell_type": "code",
   "execution_count": 55,
   "metadata": {},
   "outputs": [
    {
     "data": {
      "text/plain": [
       "(0, 12)"
      ]
     },
     "execution_count": 55,
     "metadata": {},
     "output_type": "execute_result"
    }
   ],
   "source": [
    "IndividualDetails[IndividualDetails['age']==0].shape"
   ]
  },
  {
   "cell_type": "code",
   "execution_count": 56,
   "metadata": {},
   "outputs": [
    {
     "data": {
      "text/plain": [
       "id                             int64\n",
       "government_id                 object\n",
       "diagnosed_date        datetime64[ns]\n",
       "age                           object\n",
       "gender                        object\n",
       "detected_city                 object\n",
       "detected_district             object\n",
       "State                         object\n",
       "nationality                   object\n",
       "current_status                object\n",
       "status_change_date            object\n",
       "notes                         object\n",
       "dtype: object"
      ]
     },
     "execution_count": 56,
     "metadata": {},
     "output_type": "execute_result"
    }
   ],
   "source": [
    "IndividualDetails.dtypes"
   ]
  },
  {
   "cell_type": "markdown",
   "metadata": {},
   "source": [
    "## MVI"
   ]
  },
  {
   "cell_type": "code",
   "execution_count": 57,
   "metadata": {},
   "outputs": [
    {
     "data": {
      "text/plain": [
       "<AxesSubplot:>"
      ]
     },
     "execution_count": 57,
     "metadata": {},
     "output_type": "execute_result"
    },
    {
     "data": {
      "image/png": "[encoded data removed]",
      "text/plain": [
       "<Figure size 432x288 with 1 Axes>"
      ]
     },
     "metadata": {
      "needs_background": "light"
     },
     "output_type": "display_data"
    }
   ],
   "source": [
    "sns.heatmap(IndividualDetails.isnull(), cmap='viridis', cbar=False, yticklabels=False)"
   ]
  },
  {
   "cell_type": "code",
   "execution_count": 58,
   "metadata": {},
   "outputs": [
    {
     "name": "stdout",
     "output_type": "stream",
     "text": [
      "Percentage of missing values in age & gender columns respectively : 91.58838293295088 % 80.95016134815346 %\n"
     ]
    }
   ],
   "source": [
    "print('Percentage of missing values in age & gender columns respectively :', \\\n",
    "      (IndividualDetails['age'].isna().sum()/IndividualDetails.shape[0])*100,'%',\\\n",
    "      (IndividualDetails['gender'].isna().sum()/IndividualDetails.shape[0])*100,'%')"
   ]
  },
  {
   "cell_type": "code",
   "execution_count": 59,
   "metadata": {},
   "outputs": [],
   "source": [
    "# Impute age with the median value in each state and gender by mode of male & female in each state"
   ]
  },
  {
   "cell_type": "code",
   "execution_count": 60,
   "metadata": {},
   "outputs": [
    {
     "name": "stderr",
     "output_type": "stream",
     "text": [
      "<ipython-input-60-d468ea882439>:6: SettingWithCopyWarning: \n",
      "A value is trying to be set on a copy of a slice from a DataFrame\n",
      "\n",
      "See the caveats in the documentation: https://pandas.pydata.org/pandas-docs/stable/user_guide/indexing.html#returning-a-view-versus-a-copy\n",
      "  IndividualDetails['age'][index]=round((int(row['age'].split('-')[0])+int(row['age'].split('-')[1]))/2)\n",
      "<ipython-input-60-d468ea882439>:8: SettingWithCopyWarning: \n",
      "A value is trying to be set on a copy of a slice from a DataFrame\n",
      "\n",
      "See the caveats in the documentation: https://pandas.pydata.org/pandas-docs/stable/user_guide/indexing.html#returning-a-view-versus-a-copy\n",
      "  IndividualDetails['age'][index]=round(float(row['age']))\n"
     ]
    }
   ],
   "source": [
    "# Transform Age variable into legit integer in order to take the mean.\n",
    "# There are values like '28-35' and 1.3 in the age column. And missing can't be kept while taking its mean for each state.\n",
    "for index , row in IndividualDetails.iterrows():\n",
    "    if not pd.isnull(row['age']):\n",
    "        if len(row['age'].split('-'))>1:\n",
    "                    IndividualDetails['age'][index]=round((int(row['age'].split('-')[0])+int(row['age'].split('-')[1]))/2)\n",
    "        elif len(row['age'].split('.'))>1:    \n",
    "            IndividualDetails['age'][index]=round(float(row['age']))\n",
    "        else:\n",
    "            pass"
   ]
  },
  {
   "cell_type": "code",
   "execution_count": 61,
   "metadata": {},
   "outputs": [
    {
     "name": "stderr",
     "output_type": "stream",
     "text": [
      "<ipython-input-61-737bb75190e3>:2: SettingWithCopyWarning: \n",
      "A value is trying to be set on a copy of a slice from a DataFrame.\n",
      "Try using .loc[row_indexer,col_indexer] = value instead\n",
      "\n",
      "See the caveats in the documentation: https://pandas.pydata.org/pandas-docs/stable/user_guide/indexing.html#returning-a-view-versus-a-copy\n",
      "  ageMedianPerState['age']=ageMedianPerState['age'].astype(int)\n"
     ]
    },
    {
     "data": {
      "text/html": [
       "<div>\n",
       "<style scoped>\n",
       "    .dataframe tbody tr th:only-of-type {\n",
       "        vertical-align: middle;\n",
       "    }\n",
       "\n",
       "    .dataframe tbody tr th {\n",
       "        vertical-align: top;\n",
       "    }\n",
       "\n",
       "    .dataframe thead th {\n",
       "        text-align: right;\n",
       "    }\n",
       "</style>\n",
       "<table border=\"1\" class=\"dataframe\">\n",
       "  <thead>\n",
       "    <tr style=\"text-align: right;\">\n",
       "      <th></th>\n",
       "      <th>State</th>\n",
       "      <th>age</th>\n",
       "    </tr>\n",
       "  </thead>\n",
       "  <tbody>\n",
       "    <tr>\n",
       "      <th>0</th>\n",
       "      <td>Andaman and Nicobar Islands</td>\n",
       "      <td>53</td>\n",
       "    </tr>\n",
       "    <tr>\n",
       "      <th>1</th>\n",
       "      <td>Andhra Pradesh</td>\n",
       "      <td>37</td>\n",
       "    </tr>\n",
       "    <tr>\n",
       "      <th>2</th>\n",
       "      <td>Assam</td>\n",
       "      <td>52</td>\n",
       "    </tr>\n",
       "    <tr>\n",
       "      <th>3</th>\n",
       "      <td>Bihar</td>\n",
       "      <td>31</td>\n",
       "    </tr>\n",
       "    <tr>\n",
       "      <th>4</th>\n",
       "      <td>Chandigarh</td>\n",
       "      <td>26</td>\n",
       "    </tr>\n",
       "  </tbody>\n",
       "</table>\n",
       "</div>"
      ],
      "text/plain": [
       "                         State  age\n",
       "0  Andaman and Nicobar Islands   53\n",
       "1               Andhra Pradesh   37\n",
       "2                        Assam   52\n",
       "3                        Bihar   31\n",
       "4                   Chandigarh   26"
      ]
     },
     "execution_count": 61,
     "metadata": {},
     "output_type": "execute_result"
    }
   ],
   "source": [
    "ageMedianPerState = IndividualDetails[IndividualDetails['age'].notna()]\n",
    "ageMedianPerState['age'] = ageMedianPerState['age'].astype(int)\n",
    "ageMedianPerState = ageMedianPerState.groupby('State')[['age']].median().reset_index()\n",
    "ageMedianPerState['age'] = ageMedianPerState['age'].apply(lambda x:math.ceil(x))\n",
    "ageMedianPerState.head()"
   ]
  },
  {
   "cell_type": "code",
   "execution_count": 72,
   "metadata": {},
   "outputs": [
    {
     "data": {
      "text/html": [
       "<div>\n",
       "<style scoped>\n",
       "    .dataframe tbody tr th:only-of-type {\n",
       "        vertical-align: middle;\n",
       "    }\n",
       "\n",
       "    .dataframe tbody tr th {\n",
       "        vertical-align: top;\n",
       "    }\n",
       "\n",
       "    .dataframe thead th {\n",
       "        text-align: right;\n",
       "    }\n",
       "</style>\n",
       "<table border=\"1\" class=\"dataframe\">\n",
       "  <thead>\n",
       "    <tr style=\"text-align: right;\">\n",
       "      <th></th>\n",
       "      <th>State</th>\n",
       "      <th>gender</th>\n",
       "    </tr>\n",
       "  </thead>\n",
       "  <tbody>\n",
       "    <tr>\n",
       "      <th>0</th>\n",
       "      <td>Andaman and Nicobar Islands</td>\n",
       "      <td>M</td>\n",
       "    </tr>\n",
       "    <tr>\n",
       "      <th>1</th>\n",
       "      <td>Andhra Pradesh</td>\n",
       "      <td>M</td>\n",
       "    </tr>\n",
       "    <tr>\n",
       "      <th>3</th>\n",
       "      <td>Assam</td>\n",
       "      <td>M</td>\n",
       "    </tr>\n",
       "    <tr>\n",
       "      <th>4</th>\n",
       "      <td>Bihar</td>\n",
       "      <td>M</td>\n",
       "    </tr>\n",
       "    <tr>\n",
       "      <th>5</th>\n",
       "      <td>Chandigarh</td>\n",
       "      <td>M</td>\n",
       "    </tr>\n",
       "  </tbody>\n",
       "</table>\n",
       "</div>"
      ],
      "text/plain": [
       "                         State gender\n",
       "0  Andaman and Nicobar Islands      M\n",
       "1               Andhra Pradesh      M\n",
       "3                        Assam      M\n",
       "4                        Bihar      M\n",
       "5                   Chandigarh      M"
      ]
     },
     "execution_count": 72,
     "metadata": {},
     "output_type": "execute_result"
    }
   ],
   "source": [
    "genderModePerState = IndividualDetails.groupby(['State'])['gender'].agg(pd.Series.mode).to_frame().reset_index()\n",
    "genderModePerState = genderModePerState[genderModePerState['State']!='Arunachal Pradesh']\n",
    "# Removed the state with no gender info at all.\n",
    "genderModePerState.head()"
   ]
  },
  {
   "cell_type": "code",
   "execution_count": 97,
   "metadata": {},
   "outputs": [
    {
     "name": "stderr",
     "output_type": "stream",
     "text": [
      "<ipython-input-97-45c3fb259c70>:7: SettingWithCopyWarning: \n",
      "A value is trying to be set on a copy of a slice from a DataFrame\n",
      "\n",
      "See the caveats in the documentation: https://pandas.pydata.org/pandas-docs/stable/user_guide/indexing.html#returning-a-view-versus-a-copy\n",
      "  IndividualDetails['age'][index]=ageMedianPerState[ageMedianPerState['State']==row['State']]['age'].values[0]\n",
      "<ipython-input-97-45c3fb259c70>:10: SettingWithCopyWarning: \n",
      "A value is trying to be set on a copy of a slice from a DataFrame\n",
      "\n",
      "See the caveats in the documentation: https://pandas.pydata.org/pandas-docs/stable/user_guide/indexing.html#returning-a-view-versus-a-copy\n",
      "  IndividualDetails['gender'][index]=(genderModePerState[genderModePerState['State']==row['State']]['gender'].values[0])\n"
     ]
    }
   ],
   "source": [
    "#Impute missing values in age & gender columns now\n",
    "for index, row in IndividualDetails.iterrows():\n",
    "    if row['State']=='Arunachal Pradesh':\n",
    "        IndividualDetails.drop([index],inplace=True)\n",
    "        continue\n",
    "    if pd.isnull(row['age']):\n",
    "        IndividualDetails['age'][index]=ageMedianPerState[ageMedianPerState['State']==row['State']]['age'].values[0]\n",
    "    if pd.isnull(row['gender']):\n",
    "        if len(genderModePerState[genderModePerState['State']==row['State']]['gender'].values)>0:\n",
    "            IndividualDetails['gender'][index]=(genderModePerState[genderModePerState['State']==row['State']]['gender'].values[0])"
   ]
  },
  {
   "cell_type": "code",
   "execution_count": 98,
   "metadata": {},
   "outputs": [
    {
     "data": {
      "text/plain": [
       "id                        0\n",
       "government_id         24892\n",
       "diagnosed_date            0\n",
       "age                       0\n",
       "gender                    0\n",
       "detected_city         25542\n",
       "detected_district      7650\n",
       "State                     0\n",
       "nationality           25183\n",
       "current_status            0\n",
       "status_change_date      110\n",
       "notes                  1335\n",
       "dtype: int64"
      ]
     },
     "execution_count": 98,
     "metadata": {},
     "output_type": "execute_result"
    }
   ],
   "source": [
    "IndividualDetails.isna().sum()"
   ]
  },
  {
   "cell_type": "markdown",
   "metadata": {},
   "source": [
    "## Merge Datasets"
   ]
  },
  {
   "cell_type": "code",
   "execution_count": 109,
   "metadata": {},
   "outputs": [
    {
     "name": "stdout",
     "output_type": "stream",
     "text": [
      "(27889, 13)\n"
     ]
    },
    {
     "data": {
      "text/html": [
       "<div>\n",
       "<style scoped>\n",
       "    .dataframe tbody tr th:only-of-type {\n",
       "        vertical-align: middle;\n",
       "    }\n",
       "\n",
       "    .dataframe tbody tr th {\n",
       "        vertical-align: top;\n",
       "    }\n",
       "\n",
       "    .dataframe thead th {\n",
       "        text-align: right;\n",
       "    }\n",
       "</style>\n",
       "<table border=\"1\" class=\"dataframe\">\n",
       "  <thead>\n",
       "    <tr style=\"text-align: right;\">\n",
       "      <th></th>\n",
       "      <th>id</th>\n",
       "      <th>government_id</th>\n",
       "      <th>diagnosed_date</th>\n",
       "      <th>age</th>\n",
       "      <th>gender</th>\n",
       "      <th>detected_city</th>\n",
       "      <th>detected_district</th>\n",
       "      <th>State</th>\n",
       "      <th>nationality</th>\n",
       "      <th>current_status</th>\n",
       "      <th>status_change_date</th>\n",
       "      <th>notes</th>\n",
       "      <th>density_group</th>\n",
       "    </tr>\n",
       "  </thead>\n",
       "  <tbody>\n",
       "    <tr>\n",
       "      <th>0</th>\n",
       "      <td>0</td>\n",
       "      <td>KL-TS-P1</td>\n",
       "      <td>2020-01-30</td>\n",
       "      <td>20</td>\n",
       "      <td>F</td>\n",
       "      <td>Thrissur</td>\n",
       "      <td>Thrissur</td>\n",
       "      <td>Kerala</td>\n",
       "      <td>India</td>\n",
       "      <td>Recovered</td>\n",
       "      <td>14-02-2020</td>\n",
       "      <td>Travelled from Wuhan</td>\n",
       "      <td>Dense3</td>\n",
       "    </tr>\n",
       "    <tr>\n",
       "      <th>1</th>\n",
       "      <td>1</td>\n",
       "      <td>KL-AL-P1</td>\n",
       "      <td>2020-02-02</td>\n",
       "      <td>35</td>\n",
       "      <td>M</td>\n",
       "      <td>Alappuzha</td>\n",
       "      <td>Alappuzha</td>\n",
       "      <td>Kerala</td>\n",
       "      <td>India</td>\n",
       "      <td>Recovered</td>\n",
       "      <td>14-02-2020</td>\n",
       "      <td>Travelled from Wuhan</td>\n",
       "      <td>Dense3</td>\n",
       "    </tr>\n",
       "    <tr>\n",
       "      <th>2</th>\n",
       "      <td>2</td>\n",
       "      <td>KL-KS-P1</td>\n",
       "      <td>2020-03-02</td>\n",
       "      <td>35</td>\n",
       "      <td>M</td>\n",
       "      <td>Kasaragod</td>\n",
       "      <td>Kasaragod</td>\n",
       "      <td>Kerala</td>\n",
       "      <td>India</td>\n",
       "      <td>Recovered</td>\n",
       "      <td>14-02-2020</td>\n",
       "      <td>Travelled from Wuhan</td>\n",
       "      <td>Dense3</td>\n",
       "    </tr>\n",
       "    <tr>\n",
       "      <th>3</th>\n",
       "      <td>3</td>\n",
       "      <td>DL-P1</td>\n",
       "      <td>2020-02-03</td>\n",
       "      <td>45</td>\n",
       "      <td>M</td>\n",
       "      <td>East Delhi (Mayur Vihar)</td>\n",
       "      <td>East Delhi</td>\n",
       "      <td>Delhi</td>\n",
       "      <td>India</td>\n",
       "      <td>Recovered</td>\n",
       "      <td>15-03-2020</td>\n",
       "      <td>Travelled from Austria, Italy</td>\n",
       "      <td>Dense4</td>\n",
       "    </tr>\n",
       "    <tr>\n",
       "      <th>4</th>\n",
       "      <td>4</td>\n",
       "      <td>TS-P1</td>\n",
       "      <td>2020-02-03</td>\n",
       "      <td>24</td>\n",
       "      <td>M</td>\n",
       "      <td>Hyderabad</td>\n",
       "      <td>Hyderabad</td>\n",
       "      <td>Telangana</td>\n",
       "      <td>India</td>\n",
       "      <td>Recovered</td>\n",
       "      <td>02-03-2020</td>\n",
       "      <td>Travelled from Dubai to Bangalore on 20th Feb,...</td>\n",
       "      <td>Dense2</td>\n",
       "    </tr>\n",
       "  </tbody>\n",
       "</table>\n",
       "</div>"
      ],
      "text/plain": [
       "   id government_id diagnosed_date age gender             detected_city  \\\n",
       "0   0      KL-TS-P1     2020-01-30  20      F                  Thrissur   \n",
       "1   1      KL-AL-P1     2020-02-02  35      M                 Alappuzha   \n",
       "2   2      KL-KS-P1     2020-03-02  35      M                 Kasaragod   \n",
       "3   3         DL-P1     2020-02-03  45      M  East Delhi (Mayur Vihar)   \n",
       "4   4         TS-P1     2020-02-03  24      M                 Hyderabad   \n",
       "\n",
       "  detected_district      State nationality current_status status_change_date  \\\n",
       "0          Thrissur     Kerala       India      Recovered         14-02-2020   \n",
       "1         Alappuzha     Kerala       India      Recovered         14-02-2020   \n",
       "2         Kasaragod     Kerala       India      Recovered         14-02-2020   \n",
       "3        East Delhi      Delhi       India      Recovered         15-03-2020   \n",
       "4         Hyderabad  Telangana       India      Recovered         02-03-2020   \n",
       "\n",
       "                                               notes density_group  \n",
       "0                               Travelled from Wuhan        Dense3  \n",
       "1                               Travelled from Wuhan        Dense3  \n",
       "2                               Travelled from Wuhan        Dense3  \n",
       "3                      Travelled from Austria, Italy        Dense4  \n",
       "4  Travelled from Dubai to Bangalore on 20th Feb,...        Dense2  "
      ]
     },
     "execution_count": 109,
     "metadata": {},
     "output_type": "execute_result"
    }
   ],
   "source": [
    "# Merge individualDetails & stateDensity dataframes\n",
    "data_w2=pd.merge(IndividualDetails,stateDensity,on='State',how='left').reset_index(drop=True)\n",
    "print(data_w2.shape)\n",
    "data_w2.head()"
   ]
  },
  {
   "cell_type": "code",
   "execution_count": 110,
   "metadata": {},
   "outputs": [
    {
     "data": {
      "text/plain": [
       "id                        0\n",
       "government_id         24892\n",
       "diagnosed_date            0\n",
       "age                       0\n",
       "gender                    0\n",
       "detected_city         25542\n",
       "detected_district      7650\n",
       "State                     0\n",
       "nationality           25183\n",
       "current_status            0\n",
       "status_change_date      110\n",
       "notes                  1335\n",
       "density_group             0\n",
       "dtype: int64"
      ]
     },
     "execution_count": 110,
     "metadata": {},
     "output_type": "execute_result"
    }
   ],
   "source": [
    "data_w2.dropna()"
   ]
  },
  {
   "cell_type": "markdown",
   "metadata": {},
   "source": [
    "## Age Buckets and Data Prep. for ANOVA"
   ]
  },
  {
   "cell_type": "code",
   "execution_count": 112,
   "metadata": {},
   "outputs": [
    {
     "name": "stderr",
     "output_type": "stream",
     "text": [
      "<ipython-input-112-be28fd22d9cf>:5: SettingWithCopyWarning: \n",
      "A value is trying to be set on a copy of a slice from a DataFrame\n",
      "\n",
      "See the caveats in the documentation: https://pandas.pydata.org/pandas-docs/stable/user_guide/indexing.html#returning-a-view-versus-a-copy\n",
      "  data_w2['age_group'][index]='Young'\n",
      "C:\\Anaconda3\\lib\\site-packages\\pandas\\core\\indexing.py:670: SettingWithCopyWarning: \n",
      "A value is trying to be set on a copy of a slice from a DataFrame\n",
      "\n",
      "See the caveats in the documentation: https://pandas.pydata.org/pandas-docs/stable/user_guide/indexing.html#returning-a-view-versus-a-copy\n",
      "  iloc._setitem_with_indexer(indexer, value)\n",
      "<ipython-input-112-be28fd22d9cf>:7: SettingWithCopyWarning: \n",
      "A value is trying to be set on a copy of a slice from a DataFrame\n",
      "\n",
      "See the caveats in the documentation: https://pandas.pydata.org/pandas-docs/stable/user_guide/indexing.html#returning-a-view-versus-a-copy\n",
      "  data_w2['age_group'][index]='Adult'\n",
      "<ipython-input-112-be28fd22d9cf>:9: SettingWithCopyWarning: \n",
      "A value is trying to be set on a copy of a slice from a DataFrame\n",
      "\n",
      "See the caveats in the documentation: https://pandas.pydata.org/pandas-docs/stable/user_guide/indexing.html#returning-a-view-versus-a-copy\n",
      "  data_w2['age_group'][index]='Old'\n"
     ]
    },
    {
     "data": {
      "text/plain": [
       "Old      15566\n",
       "Adult    11917\n",
       "Young      406\n",
       "Name: age_group, dtype: int64"
      ]
     },
     "execution_count": 112,
     "metadata": {},
     "output_type": "execute_result"
    }
   ],
   "source": [
    "data_w2['age_group']=0\n",
    "for index, row in data_w2.iterrows():\n",
    "    i=float(row['age'])\n",
    "    if 0<i<=20:\n",
    "        data_w2['age_group'][index]='Young'\n",
    "    elif 20<i<=40:\n",
    "        data_w2['age_group'][index]='Adult'\n",
    "    else:\n",
    "        data_w2['age_group'][index]='Old'\n",
    "\n",
    "data_w2['age_group'].value_counts()"
   ]
  },
  {
   "cell_type": "code",
   "execution_count": 117,
   "metadata": {},
   "outputs": [
    {
     "data": {
      "text/html": [
       "<div>\n",
       "<style scoped>\n",
       "    .dataframe tbody tr th:only-of-type {\n",
       "        vertical-align: middle;\n",
       "    }\n",
       "\n",
       "    .dataframe tbody tr th {\n",
       "        vertical-align: top;\n",
       "    }\n",
       "\n",
       "    .dataframe thead th {\n",
       "        text-align: right;\n",
       "    }\n",
       "</style>\n",
       "<table border=\"1\" class=\"dataframe\">\n",
       "  <thead>\n",
       "    <tr style=\"text-align: right;\">\n",
       "      <th></th>\n",
       "      <th>diagnosed_date</th>\n",
       "      <th>density_group</th>\n",
       "      <th>Count</th>\n",
       "    </tr>\n",
       "  </thead>\n",
       "  <tbody>\n",
       "    <tr>\n",
       "      <th>0</th>\n",
       "      <td>2020-01-04</td>\n",
       "      <td>Dense1</td>\n",
       "      <td>67</td>\n",
       "    </tr>\n",
       "    <tr>\n",
       "      <th>1</th>\n",
       "      <td>2020-01-04</td>\n",
       "      <td>Dense2</td>\n",
       "      <td>281</td>\n",
       "    </tr>\n",
       "    <tr>\n",
       "      <th>2</th>\n",
       "      <td>2020-01-04</td>\n",
       "      <td>Dense3</td>\n",
       "      <td>37</td>\n",
       "    </tr>\n",
       "    <tr>\n",
       "      <th>3</th>\n",
       "      <td>2020-01-04</td>\n",
       "      <td>Dense4</td>\n",
       "      <td>39</td>\n",
       "    </tr>\n",
       "    <tr>\n",
       "      <th>4</th>\n",
       "      <td>2020-01-30</td>\n",
       "      <td>Dense3</td>\n",
       "      <td>1</td>\n",
       "    </tr>\n",
       "    <tr>\n",
       "      <th>5</th>\n",
       "      <td>2020-02-02</td>\n",
       "      <td>Dense3</td>\n",
       "      <td>1</td>\n",
       "    </tr>\n",
       "    <tr>\n",
       "      <th>6</th>\n",
       "      <td>2020-02-03</td>\n",
       "      <td>Dense2</td>\n",
       "      <td>1</td>\n",
       "    </tr>\n",
       "  </tbody>\n",
       "</table>\n",
       "</div>"
      ],
      "text/plain": [
       "  diagnosed_date density_group  Count\n",
       "0     2020-01-04        Dense1     67\n",
       "1     2020-01-04        Dense2    281\n",
       "2     2020-01-04        Dense3     37\n",
       "3     2020-01-04        Dense4     39\n",
       "4     2020-01-30        Dense3      1\n",
       "5     2020-02-02        Dense3      1\n",
       "6     2020-02-03        Dense2      1"
      ]
     },
     "execution_count": 117,
     "metadata": {},
     "output_type": "execute_result"
    }
   ],
   "source": [
    "patient_Count=data_w2.groupby(['diagnosed_date', 'density_group'])[['diagnosed_date']].count().\\\n",
    "                      rename(columns={'diagnosed_date':'Count'}).reset_index()\n",
    "patient_Count.head(7)"
   ]
  },
  {
   "cell_type": "code",
   "execution_count": 122,
   "metadata": {},
   "outputs": [
    {
     "data": {
      "text/html": [
       "<div>\n",
       "<style scoped>\n",
       "    .dataframe tbody tr th:only-of-type {\n",
       "        vertical-align: middle;\n",
       "    }\n",
       "\n",
       "    .dataframe tbody tr th {\n",
       "        vertical-align: top;\n",
       "    }\n",
       "\n",
       "    .dataframe thead th {\n",
       "        text-align: right;\n",
       "    }\n",
       "</style>\n",
       "<table border=\"1\" class=\"dataframe\">\n",
       "  <thead>\n",
       "    <tr style=\"text-align: right;\">\n",
       "      <th></th>\n",
       "      <th>id</th>\n",
       "      <th>government_id</th>\n",
       "      <th>diagnosed_date</th>\n",
       "      <th>age</th>\n",
       "      <th>gender</th>\n",
       "      <th>detected_city</th>\n",
       "      <th>detected_district</th>\n",
       "      <th>State</th>\n",
       "      <th>nationality</th>\n",
       "      <th>current_status</th>\n",
       "      <th>status_change_date</th>\n",
       "      <th>notes</th>\n",
       "      <th>density_group</th>\n",
       "      <th>age_group</th>\n",
       "      <th>Count</th>\n",
       "    </tr>\n",
       "  </thead>\n",
       "  <tbody>\n",
       "    <tr>\n",
       "      <th>0</th>\n",
       "      <td>0</td>\n",
       "      <td>KL-TS-P1</td>\n",
       "      <td>2020-01-30</td>\n",
       "      <td>20</td>\n",
       "      <td>F</td>\n",
       "      <td>Thrissur</td>\n",
       "      <td>Thrissur</td>\n",
       "      <td>Kerala</td>\n",
       "      <td>India</td>\n",
       "      <td>Recovered</td>\n",
       "      <td>14-02-2020</td>\n",
       "      <td>Travelled from Wuhan</td>\n",
       "      <td>Dense3</td>\n",
       "      <td>Young</td>\n",
       "      <td>1</td>\n",
       "    </tr>\n",
       "    <tr>\n",
       "      <th>1</th>\n",
       "      <td>1</td>\n",
       "      <td>KL-AL-P1</td>\n",
       "      <td>2020-02-02</td>\n",
       "      <td>35</td>\n",
       "      <td>M</td>\n",
       "      <td>Alappuzha</td>\n",
       "      <td>Alappuzha</td>\n",
       "      <td>Kerala</td>\n",
       "      <td>India</td>\n",
       "      <td>Recovered</td>\n",
       "      <td>14-02-2020</td>\n",
       "      <td>Travelled from Wuhan</td>\n",
       "      <td>Dense3</td>\n",
       "      <td>Adult</td>\n",
       "      <td>1</td>\n",
       "    </tr>\n",
       "    <tr>\n",
       "      <th>2</th>\n",
       "      <td>2</td>\n",
       "      <td>KL-KS-P1</td>\n",
       "      <td>2020-03-02</td>\n",
       "      <td>35</td>\n",
       "      <td>M</td>\n",
       "      <td>Kasaragod</td>\n",
       "      <td>Kasaragod</td>\n",
       "      <td>Kerala</td>\n",
       "      <td>India</td>\n",
       "      <td>Recovered</td>\n",
       "      <td>14-02-2020</td>\n",
       "      <td>Travelled from Wuhan</td>\n",
       "      <td>Dense3</td>\n",
       "      <td>Adult</td>\n",
       "      <td>1</td>\n",
       "    </tr>\n",
       "    <tr>\n",
       "      <th>3</th>\n",
       "      <td>3</td>\n",
       "      <td>DL-P1</td>\n",
       "      <td>2020-02-03</td>\n",
       "      <td>45</td>\n",
       "      <td>M</td>\n",
       "      <td>East Delhi (Mayur Vihar)</td>\n",
       "      <td>East Delhi</td>\n",
       "      <td>Delhi</td>\n",
       "      <td>India</td>\n",
       "      <td>Recovered</td>\n",
       "      <td>15-03-2020</td>\n",
       "      <td>Travelled from Austria, Italy</td>\n",
       "      <td>Dense4</td>\n",
       "      <td>Old</td>\n",
       "      <td>1</td>\n",
       "    </tr>\n",
       "    <tr>\n",
       "      <th>4</th>\n",
       "      <td>4</td>\n",
       "      <td>TS-P1</td>\n",
       "      <td>2020-02-03</td>\n",
       "      <td>24</td>\n",
       "      <td>M</td>\n",
       "      <td>Hyderabad</td>\n",
       "      <td>Hyderabad</td>\n",
       "      <td>Telangana</td>\n",
       "      <td>India</td>\n",
       "      <td>Recovered</td>\n",
       "      <td>02-03-2020</td>\n",
       "      <td>Travelled from Dubai to Bangalore on 20th Feb,...</td>\n",
       "      <td>Dense2</td>\n",
       "      <td>Adult</td>\n",
       "      <td>1</td>\n",
       "    </tr>\n",
       "  </tbody>\n",
       "</table>\n",
       "</div>"
      ],
      "text/plain": [
       "   id government_id diagnosed_date age gender             detected_city  \\\n",
       "0   0      KL-TS-P1     2020-01-30  20      F                  Thrissur   \n",
       "1   1      KL-AL-P1     2020-02-02  35      M                 Alappuzha   \n",
       "2   2      KL-KS-P1     2020-03-02  35      M                 Kasaragod   \n",
       "3   3         DL-P1     2020-02-03  45      M  East Delhi (Mayur Vihar)   \n",
       "4   4         TS-P1     2020-02-03  24      M                 Hyderabad   \n",
       "\n",
       "  detected_district      State nationality current_status status_change_date  \\\n",
       "0          Thrissur     Kerala       India      Recovered         14-02-2020   \n",
       "1         Alappuzha     Kerala       India      Recovered         14-02-2020   \n",
       "2         Kasaragod     Kerala       India      Recovered         14-02-2020   \n",
       "3        East Delhi      Delhi       India      Recovered         15-03-2020   \n",
       "4         Hyderabad  Telangana       India      Recovered         02-03-2020   \n",
       "\n",
       "                                               notes density_group age_group  \\\n",
       "0                               Travelled from Wuhan        Dense3     Young   \n",
       "1                               Travelled from Wuhan        Dense3     Adult   \n",
       "2                               Travelled from Wuhan        Dense3     Adult   \n",
       "3                      Travelled from Austria, Italy        Dense4       Old   \n",
       "4  Travelled from Dubai to Bangalore on 20th Feb,...        Dense2     Adult   \n",
       "\n",
       "   Count  \n",
       "0      1  \n",
       "1      1  \n",
       "2      1  \n",
       "3      1  \n",
       "4      1  "
      ]
     },
     "execution_count": 122,
     "metadata": {},
     "output_type": "execute_result"
    }
   ],
   "source": [
    "data_tmp=pd.merge(data_w2, patient_Count, on=['diagnosed_date', 'density_group'], how='inner')\n",
    "data_tmp.head()"
   ]
  },
  {
   "cell_type": "code",
   "execution_count": 125,
   "metadata": {},
   "outputs": [
    {
     "name": "stdout",
     "output_type": "stream",
     "text": [
      "(12, 3)\n"
     ]
    },
    {
     "data": {
      "text/html": [
       "<div>\n",
       "<style scoped>\n",
       "    .dataframe tbody tr th:only-of-type {\n",
       "        vertical-align: middle;\n",
       "    }\n",
       "\n",
       "    .dataframe tbody tr th {\n",
       "        vertical-align: top;\n",
       "    }\n",
       "\n",
       "    .dataframe thead th {\n",
       "        text-align: right;\n",
       "    }\n",
       "</style>\n",
       "<table border=\"1\" class=\"dataframe\">\n",
       "  <thead>\n",
       "    <tr style=\"text-align: right;\">\n",
       "      <th></th>\n",
       "      <th>density_group</th>\n",
       "      <th>age_group</th>\n",
       "      <th>Count</th>\n",
       "    </tr>\n",
       "  </thead>\n",
       "  <tbody>\n",
       "    <tr>\n",
       "      <th>0</th>\n",
       "      <td>Dense1</td>\n",
       "      <td>Adult</td>\n",
       "      <td>[1, 1, 1, 2, 2, 5, 4, 4, 6, 6, 6, 16, 16, 16, ...</td>\n",
       "    </tr>\n",
       "    <tr>\n",
       "      <th>1</th>\n",
       "      <td>Dense1</td>\n",
       "      <td>Old</td>\n",
       "      <td>[1, 1, 2, 2, 1, 1, 1, 5, 5, 5, 5, 4, 6, 6, 16,...</td>\n",
       "    </tr>\n",
       "    <tr>\n",
       "      <th>2</th>\n",
       "      <td>Dense1</td>\n",
       "      <td>Young</td>\n",
       "      <td>[4, 6, 18, 18, 27, 27, 32, 11, 41, 84, 191, 19...</td>\n",
       "    </tr>\n",
       "    <tr>\n",
       "      <th>3</th>\n",
       "      <td>Dense2</td>\n",
       "      <td>Adult</td>\n",
       "      <td>[1, 6, 5, 5, 5, 5, 10, 10, 7, 9, 9, 8, 8, 8, 1...</td>\n",
       "    </tr>\n",
       "    <tr>\n",
       "      <th>4</th>\n",
       "      <td>Dense2</td>\n",
       "      <td>Old</td>\n",
       "      <td>[14, 14, 14, 14, 14, 14, 14, 14, 14, 14, 14, 1...</td>\n",
       "    </tr>\n",
       "  </tbody>\n",
       "</table>\n",
       "</div>"
      ],
      "text/plain": [
       "  density_group age_group                                              Count\n",
       "0        Dense1     Adult  [1, 1, 1, 2, 2, 5, 4, 4, 6, 6, 6, 16, 16, 16, ...\n",
       "1        Dense1       Old  [1, 1, 2, 2, 1, 1, 1, 5, 5, 5, 5, 4, 6, 6, 16,...\n",
       "2        Dense1     Young  [4, 6, 18, 18, 27, 27, 32, 11, 41, 84, 191, 19...\n",
       "3        Dense2     Adult  [1, 6, 5, 5, 5, 5, 10, 10, 7, 9, 9, 8, 8, 8, 1...\n",
       "4        Dense2       Old  [14, 14, 14, 14, 14, 14, 14, 14, 14, 14, 14, 1..."
      ]
     },
     "execution_count": 125,
     "metadata": {},
     "output_type": "execute_result"
    }
   ],
   "source": [
    "#Rearrange Dataframe\n",
    "newData=data_tmp.groupby(['density_group','age_group'])['Count'].apply(list).reset_index()\n",
    "print(newData.shape)\n",
    "newData.head()"
   ]
  },
  {
   "cell_type": "markdown",
   "metadata": {},
   "source": [
    "## Two-Way ANOVA Test"
   ]
  },
  {
   "cell_type": "code",
   "execution_count": 139,
   "metadata": {},
   "outputs": [],
   "source": [
    "#Select random samples of each category\n",
    "np.random.seed(708)\n",
    "AnovaData = pd.DataFrame(columns=['density_group','age_group','Count'])\n",
    "for index,row in newData.iterrows():\n",
    "    count = 17\n",
    "    tempDf = pd.DataFrame(index=range(0,count), columns=['density_group','age_group','Count'])\n",
    "    \n",
    "    tempDf['age_group'] = newData['age_group'][index]\n",
    "    tempDf['density_group'] = newData['density_group'][index]\n",
    "    tempDf['Count'] = random.sample(list(newData['Count'][index]),count)\n",
    "    AnovaData = pd.concat([AnovaData,tempDf],axis=0)"
   ]
  },
  {
   "cell_type": "code",
   "execution_count": 166,
   "metadata": {},
   "outputs": [],
   "source": [
    "AnovaData['Count'] = AnovaData['Count'].astype(int)"
   ]
  },
  {
   "cell_type": "code",
   "execution_count": 167,
   "metadata": {},
   "outputs": [
    {
     "data": {
      "text/plain": [
       "density_group    object\n",
       "age_group        object\n",
       "Count             int32\n",
       "dtype: object"
      ]
     },
     "execution_count": 167,
     "metadata": {},
     "output_type": "execute_result"
    }
   ],
   "source": [
    "AnovaData.dtypes"
   ]
  },
  {
   "cell_type": "code",
   "execution_count": 168,
   "metadata": {},
   "outputs": [
    {
     "data": {
      "image/png": "[encoded data removed]",
      "text/plain": [
       "<Figure size 432x288 with 1 Axes>"
      ]
     },
     "metadata": {
      "needs_background": "light"
     },
     "output_type": "display_data"
    }
   ],
   "source": [
    "plt.hist(AnovaData['Count'])\n",
    "plt.show()"
   ]
  },
  {
   "cell_type": "code",
   "execution_count": 169,
   "metadata": {},
   "outputs": [
    {
     "data": {
      "text/plain": [
       "<AxesSubplot:xlabel='Count', ylabel='Density'>"
      ]
     },
     "execution_count": 169,
     "metadata": {},
     "output_type": "execute_result"
    },
    {
     "data": {
      "image/png": "[encoded data removed]",
      "text/plain": [
       "<Figure size 432x288 with 1 Axes>"
      ]
     },
     "metadata": {
      "needs_background": "light"
     },
     "output_type": "display_data"
    }
   ],
   "source": [
    "sns.kdeplot(AnovaData['Count'], shade=True)"
   ]
  },
  {
   "cell_type": "code",
   "execution_count": 173,
   "metadata": {},
   "outputs": [
    {
     "data": {
      "text/plain": [
       "<AxesSubplot:xlabel='age_group', ylabel='Count'>"
      ]
     },
     "execution_count": 173,
     "metadata": {},
     "output_type": "execute_result"
    },
    {
     "data": {
      "image/png": "[encoded data removed]",
      "text/plain": [
       "<Figure size 432x288 with 1 Axes>"
      ]
     },
     "metadata": {
      "needs_background": "light"
     },
     "output_type": "display_data"
    }
   ],
   "source": [
    "#Check for outliers\n",
    "sns.boxplot(x='age_group', y='Count', data=AnovaData, palette=\"viridis\")"
   ]
  },
  {
   "cell_type": "code",
   "execution_count": 174,
   "metadata": {},
   "outputs": [],
   "source": [
    "# Box Cox Transformation to get a normal data\n",
    "AnovaData['newCount'], fitted_lambda = stats.boxcox(AnovaData['Count'])"
   ]
  },
  {
   "cell_type": "code",
   "execution_count": 176,
   "metadata": {},
   "outputs": [
    {
     "data": {
      "text/plain": [
       "<AxesSubplot:xlabel='newCount', ylabel='Density'>"
      ]
     },
     "execution_count": 176,
     "metadata": {},
     "output_type": "execute_result"
    },
    {
     "data": {
      "image/png": "[encoded data removed]",
      "text/plain": [
       "<Figure size 432x288 with 1 Axes>"
      ]
     },
     "metadata": {
      "needs_background": "light"
     },
     "output_type": "display_data"
    }
   ],
   "source": [
    "sns.kdeplot(AnovaData['newCount'], shade=True)"
   ]
  },
  {
   "cell_type": "markdown",
   "metadata": {},
   "source": [
    "#### Approach 1 - Fit the OLS Model"
   ]
  },
  {
   "cell_type": "code",
   "execution_count": 177,
   "metadata": {},
   "outputs": [
    {
     "name": "stdout",
     "output_type": "stream",
     "text": [
      "Overall model F( 5.0, 198.0) =  38.76612635540874, p =  1.2001177831208807e-27\n"
     ]
    },
    {
     "data": {
      "text/html": [
       "<table class=\"simpletable\">\n",
       "<caption>OLS Regression Results</caption>\n",
       "<tr>\n",
       "  <th>Dep. Variable:</th>        <td>newCount</td>     <th>  R-squared:         </th> <td>   0.495</td>\n",
       "</tr>\n",
       "<tr>\n",
       "  <th>Model:</th>                   <td>OLS</td>       <th>  Adj. R-squared:    </th> <td>   0.482</td>\n",
       "</tr>\n",
       "<tr>\n",
       "  <th>Method:</th>             <td>Least Squares</td>  <th>  F-statistic:       </th> <td>   38.77</td>\n",
       "</tr>\n",
       "<tr>\n",
       "  <th>Date:</th>             <td>Wed, 24 Mar 2021</td> <th>  Prob (F-statistic):</th> <td>1.20e-27</td>\n",
       "</tr>\n",
       "<tr>\n",
       "  <th>Time:</th>                 <td>02:01:44</td>     <th>  Log-Likelihood:    </th> <td> -513.47</td>\n",
       "</tr>\n",
       "<tr>\n",
       "  <th>No. Observations:</th>      <td>   204</td>      <th>  AIC:               </th> <td>   1039.</td>\n",
       "</tr>\n",
       "<tr>\n",
       "  <th>Df Residuals:</th>          <td>   198</td>      <th>  BIC:               </th> <td>   1059.</td>\n",
       "</tr>\n",
       "<tr>\n",
       "  <th>Df Model:</th>              <td>     5</td>      <th>                     </th>     <td> </td>   \n",
       "</tr>\n",
       "<tr>\n",
       "  <th>Covariance Type:</th>      <td>nonrobust</td>    <th>                     </th>     <td> </td>   \n",
       "</tr>\n",
       "</table>\n",
       "<table class=\"simpletable\">\n",
       "<tr>\n",
       "               <td></td>                 <th>coef</th>     <th>std err</th>      <th>t</th>      <th>P>|t|</th>  <th>[0.025</th>    <th>0.975]</th>  \n",
       "</tr>\n",
       "<tr>\n",
       "  <th>Intercept</th>                  <td>   11.1483</td> <td>    0.522</td> <td>   21.359</td> <td> 0.000</td> <td>   10.119</td> <td>   12.178</td>\n",
       "</tr>\n",
       "<tr>\n",
       "  <th>C(age_group)[T.Old]</th>        <td>   -1.3127</td> <td>    0.522</td> <td>   -2.515</td> <td> 0.013</td> <td>   -2.342</td> <td>   -0.283</td>\n",
       "</tr>\n",
       "<tr>\n",
       "  <th>C(age_group)[T.Young]</th>      <td>   -2.4666</td> <td>    0.522</td> <td>   -4.726</td> <td> 0.000</td> <td>   -3.496</td> <td>   -1.437</td>\n",
       "</tr>\n",
       "<tr>\n",
       "  <th>C(density_group)[T.Dense2]</th> <td>    4.0379</td> <td>    0.603</td> <td>    6.700</td> <td> 0.000</td> <td>    2.849</td> <td>    5.226</td>\n",
       "</tr>\n",
       "<tr>\n",
       "  <th>C(density_group)[T.Dense3]</th> <td>   -3.8146</td> <td>    0.603</td> <td>   -6.329</td> <td> 0.000</td> <td>   -5.003</td> <td>   -2.626</td>\n",
       "</tr>\n",
       "<tr>\n",
       "  <th>C(density_group)[T.Dense4]</th> <td>    0.7087</td> <td>    0.603</td> <td>    1.176</td> <td> 0.241</td> <td>   -0.480</td> <td>    1.897</td>\n",
       "</tr>\n",
       "</table>\n",
       "<table class=\"simpletable\">\n",
       "<tr>\n",
       "  <th>Omnibus:</th>       <td>33.094</td> <th>  Durbin-Watson:     </th> <td>   2.015</td>\n",
       "</tr>\n",
       "<tr>\n",
       "  <th>Prob(Omnibus):</th> <td> 0.000</td> <th>  Jarque-Bera (JB):  </th> <td>  51.217</td>\n",
       "</tr>\n",
       "<tr>\n",
       "  <th>Skew:</th>          <td>-0.903</td> <th>  Prob(JB):          </th> <td>7.56e-12</td>\n",
       "</tr>\n",
       "<tr>\n",
       "  <th>Kurtosis:</th>      <td> 4.662</td> <th>  Cond. No.          </th> <td>    5.35</td>\n",
       "</tr>\n",
       "</table><br/><br/>Notes:<br/>[1] Standard Errors assume that the covariance matrix of the errors is correctly specified."
      ],
      "text/plain": [
       "<class 'statsmodels.iolib.summary.Summary'>\n",
       "\"\"\"\n",
       "                            OLS Regression Results                            \n",
       "==============================================================================\n",
       "Dep. Variable:               newCount   R-squared:                       0.495\n",
       "Model:                            OLS   Adj. R-squared:                  0.482\n",
       "Method:                 Least Squares   F-statistic:                     38.77\n",
       "Date:                Wed, 24 Mar 2021   Prob (F-statistic):           1.20e-27\n",
       "Time:                        02:01:44   Log-Likelihood:                -513.47\n",
       "No. Observations:                 204   AIC:                             1039.\n",
       "Df Residuals:                     198   BIC:                             1059.\n",
       "Df Model:                           5                                         \n",
       "Covariance Type:            nonrobust                                         \n",
       "==============================================================================================\n",
       "                                 coef    std err          t      P>|t|      [0.025      0.975]\n",
       "----------------------------------------------------------------------------------------------\n",
       "Intercept                     11.1483      0.522     21.359      0.000      10.119      12.178\n",
       "C(age_group)[T.Old]           -1.3127      0.522     -2.515      0.013      -2.342      -0.283\n",
       "C(age_group)[T.Young]         -2.4666      0.522     -4.726      0.000      -3.496      -1.437\n",
       "C(density_group)[T.Dense2]     4.0379      0.603      6.700      0.000       2.849       5.226\n",
       "C(density_group)[T.Dense3]    -3.8146      0.603     -6.329      0.000      -5.003      -2.626\n",
       "C(density_group)[T.Dense4]     0.7087      0.603      1.176      0.241      -0.480       1.897\n",
       "==============================================================================\n",
       "Omnibus:                       33.094   Durbin-Watson:                   2.015\n",
       "Prob(Omnibus):                  0.000   Jarque-Bera (JB):               51.217\n",
       "Skew:                          -0.903   Prob(JB):                     7.56e-12\n",
       "Kurtosis:                       4.662   Cond. No.                         5.35\n",
       "==============================================================================\n",
       "\n",
       "Notes:\n",
       "[1] Standard Errors assume that the covariance matrix of the errors is correctly specified.\n",
       "\"\"\""
      ]
     },
     "execution_count": 177,
     "metadata": {},
     "output_type": "execute_result"
    }
   ],
   "source": [
    "model2 = ols('newCount ~ C(age_group) + C(density_group)', AnovaData).fit()\n",
    "\n",
    "print(f\"Overall model F({model2.df_model: },{model2.df_resid: }) = {model2.fvalue: }, p = {model2.f_pvalue: }\")\n",
    "model2.summary()"
   ]
  },
  {
   "cell_type": "code",
   "execution_count": 178,
   "metadata": {},
   "outputs": [
    {
     "data": {
      "text/html": [
       "<div>\n",
       "<style scoped>\n",
       "    .dataframe tbody tr th:only-of-type {\n",
       "        vertical-align: middle;\n",
       "    }\n",
       "\n",
       "    .dataframe tbody tr th {\n",
       "        vertical-align: top;\n",
       "    }\n",
       "\n",
       "    .dataframe thead th {\n",
       "        text-align: right;\n",
       "    }\n",
       "</style>\n",
       "<table border=\"1\" class=\"dataframe\">\n",
       "  <thead>\n",
       "    <tr style=\"text-align: right;\">\n",
       "      <th></th>\n",
       "      <th>sum_sq</th>\n",
       "      <th>df</th>\n",
       "      <th>F</th>\n",
       "      <th>PR(&gt;F)</th>\n",
       "    </tr>\n",
       "  </thead>\n",
       "  <tbody>\n",
       "    <tr>\n",
       "      <th>C(age_group)</th>\n",
       "      <td>207.137846</td>\n",
       "      <td>2.0</td>\n",
       "      <td>11.181814</td>\n",
       "      <td>2.506124e-05</td>\n",
       "    </tr>\n",
       "    <tr>\n",
       "      <th>C(density_group)</th>\n",
       "      <td>1588.172873</td>\n",
       "      <td>3.0</td>\n",
       "      <td>57.155668</td>\n",
       "      <td>1.168327e-26</td>\n",
       "    </tr>\n",
       "    <tr>\n",
       "      <th>Residual</th>\n",
       "      <td>1833.928513</td>\n",
       "      <td>198.0</td>\n",
       "      <td>NaN</td>\n",
       "      <td>NaN</td>\n",
       "    </tr>\n",
       "  </tbody>\n",
       "</table>\n",
       "</div>"
      ],
      "text/plain": [
       "                       sum_sq     df          F        PR(>F)\n",
       "C(age_group)       207.137846    2.0  11.181814  2.506124e-05\n",
       "C(density_group)  1588.172873    3.0  57.155668  1.168327e-26\n",
       "Residual          1833.928513  198.0        NaN           NaN"
      ]
     },
     "execution_count": 178,
     "metadata": {},
     "output_type": "execute_result"
    }
   ],
   "source": [
    "# Generate the ANOVA table\n",
    "sm.stats.anova_lm(model2, typ=2)"
   ]
  },
  {
   "cell_type": "code",
   "execution_count": 179,
   "metadata": {},
   "outputs": [
    {
     "data": {
      "image/png": "[encoded data removed]",
      "text/plain": [
       "<Figure size 432x288 with 1 Axes>"
      ]
     },
     "metadata": {
      "needs_background": "light"
     },
     "output_type": "display_data"
    }
   ],
   "source": [
    "#Check the Normal distribution of residuals (Q-Q Plot)\n",
    "res = model2.resid \n",
    "fig = sm.qqplot(res, line='s')\n",
    "plt.show()"
   ]
  },
  {
   "cell_type": "markdown",
   "metadata": {},
   "source": [
    "#### Approach 2 - Check the interactions of groups"
   ]
  },
  {
   "cell_type": "code",
   "execution_count": 180,
   "metadata": {},
   "outputs": [
    {
     "data": {
      "text/html": [
       "<table class=\"simpletable\">\n",
       "<caption>OLS Regression Results</caption>\n",
       "<tr>\n",
       "  <th>Dep. Variable:</th>        <td>newCount</td>     <th>  R-squared:         </th> <td>   0.533</td>\n",
       "</tr>\n",
       "<tr>\n",
       "  <th>Model:</th>                   <td>OLS</td>       <th>  Adj. R-squared:    </th> <td>   0.506</td>\n",
       "</tr>\n",
       "<tr>\n",
       "  <th>Method:</th>             <td>Least Squares</td>  <th>  F-statistic:       </th> <td>   19.90</td>\n",
       "</tr>\n",
       "<tr>\n",
       "  <th>Date:</th>             <td>Wed, 24 Mar 2021</td> <th>  Prob (F-statistic):</th> <td>2.09e-26</td>\n",
       "</tr>\n",
       "<tr>\n",
       "  <th>Time:</th>                 <td>02:08:19</td>     <th>  Log-Likelihood:    </th> <td> -505.47</td>\n",
       "</tr>\n",
       "<tr>\n",
       "  <th>No. Observations:</th>      <td>   204</td>      <th>  AIC:               </th> <td>   1035.</td>\n",
       "</tr>\n",
       "<tr>\n",
       "  <th>Df Residuals:</th>          <td>   192</td>      <th>  BIC:               </th> <td>   1075.</td>\n",
       "</tr>\n",
       "<tr>\n",
       "  <th>Df Model:</th>              <td>    11</td>      <th>                     </th>     <td> </td>   \n",
       "</tr>\n",
       "<tr>\n",
       "  <th>Covariance Type:</th>      <td>nonrobust</td>    <th>                     </th>     <td> </td>   \n",
       "</tr>\n",
       "</table>\n",
       "<table class=\"simpletable\">\n",
       "<tr>\n",
       "                          <td></td>                            <th>coef</th>     <th>std err</th>      <th>t</th>      <th>P>|t|</th>  <th>[0.025</th>    <th>0.975]</th>  \n",
       "</tr>\n",
       "<tr>\n",
       "  <th>Intercept</th>                                        <td>   11.6446</td> <td>    0.721</td> <td>   16.156</td> <td> 0.000</td> <td>   10.223</td> <td>   13.066</td>\n",
       "</tr>\n",
       "<tr>\n",
       "  <th>C(age_group)[T.Old]</th>                              <td>   -0.9594</td> <td>    1.019</td> <td>   -0.941</td> <td> 0.348</td> <td>   -2.970</td> <td>    1.051</td>\n",
       "</tr>\n",
       "<tr>\n",
       "  <th>C(age_group)[T.Young]</th>                            <td>   -4.3087</td> <td>    1.019</td> <td>   -4.227</td> <td> 0.000</td> <td>   -6.319</td> <td>   -2.298</td>\n",
       "</tr>\n",
       "<tr>\n",
       "  <th>C(density_group)[T.Dense2]</th>                       <td>    3.4630</td> <td>    1.019</td> <td>    3.397</td> <td> 0.001</td> <td>    1.452</td> <td>    5.474</td>\n",
       "</tr>\n",
       "<tr>\n",
       "  <th>C(density_group)[T.Dense3]</th>                       <td>   -4.0248</td> <td>    1.019</td> <td>   -3.948</td> <td> 0.000</td> <td>   -6.035</td> <td>   -2.014</td>\n",
       "</tr>\n",
       "<tr>\n",
       "  <th>C(density_group)[T.Dense4]</th>                       <td>   -0.4915</td> <td>    1.019</td> <td>   -0.482</td> <td> 0.630</td> <td>   -2.502</td> <td>    1.519</td>\n",
       "</tr>\n",
       "<tr>\n",
       "  <th>C(age_group)[T.Old]:C(density_group)[T.Dense2]</th>   <td>    0.4430</td> <td>    1.442</td> <td>    0.307</td> <td> 0.759</td> <td>   -2.400</td> <td>    3.286</td>\n",
       "</tr>\n",
       "<tr>\n",
       "  <th>C(age_group)[T.Young]:C(density_group)[T.Dense2]</th> <td>    1.2816</td> <td>    1.442</td> <td>    0.889</td> <td> 0.375</td> <td>   -1.562</td> <td>    4.125</td>\n",
       "</tr>\n",
       "<tr>\n",
       "  <th>C(age_group)[T.Old]:C(density_group)[T.Dense3]</th>   <td>   -1.9862</td> <td>    1.442</td> <td>   -1.378</td> <td> 0.170</td> <td>   -4.830</td> <td>    0.857</td>\n",
       "</tr>\n",
       "<tr>\n",
       "  <th>C(age_group)[T.Young]:C(density_group)[T.Dense3]</th> <td>    2.6167</td> <td>    1.442</td> <td>    1.815</td> <td> 0.071</td> <td>   -0.227</td> <td>    5.460</td>\n",
       "</tr>\n",
       "<tr>\n",
       "  <th>C(age_group)[T.Old]:C(density_group)[T.Dense4]</th>   <td>    0.1301</td> <td>    1.442</td> <td>    0.090</td> <td> 0.928</td> <td>   -2.713</td> <td>    2.973</td>\n",
       "</tr>\n",
       "<tr>\n",
       "  <th>C(age_group)[T.Young]:C(density_group)[T.Dense4]</th> <td>    3.4705</td> <td>    1.442</td> <td>    2.407</td> <td> 0.017</td> <td>    0.627</td> <td>    6.314</td>\n",
       "</tr>\n",
       "</table>\n",
       "<table class=\"simpletable\">\n",
       "<tr>\n",
       "  <th>Omnibus:</th>       <td>35.404</td> <th>  Durbin-Watson:     </th> <td>   2.215</td>\n",
       "</tr>\n",
       "<tr>\n",
       "  <th>Prob(Omnibus):</th> <td> 0.000</td> <th>  Jarque-Bera (JB):  </th> <td>  68.580</td>\n",
       "</tr>\n",
       "<tr>\n",
       "  <th>Skew:</th>          <td>-0.853</td> <th>  Prob(JB):          </th> <td>1.28e-15</td>\n",
       "</tr>\n",
       "<tr>\n",
       "  <th>Kurtosis:</th>      <td> 5.271</td> <th>  Cond. No.          </th> <td>    17.9</td>\n",
       "</tr>\n",
       "</table><br/><br/>Notes:<br/>[1] Standard Errors assume that the covariance matrix of the errors is correctly specified."
      ],
      "text/plain": [
       "<class 'statsmodels.iolib.summary.Summary'>\n",
       "\"\"\"\n",
       "                            OLS Regression Results                            \n",
       "==============================================================================\n",
       "Dep. Variable:               newCount   R-squared:                       0.533\n",
       "Model:                            OLS   Adj. R-squared:                  0.506\n",
       "Method:                 Least Squares   F-statistic:                     19.90\n",
       "Date:                Wed, 24 Mar 2021   Prob (F-statistic):           2.09e-26\n",
       "Time:                        02:08:19   Log-Likelihood:                -505.47\n",
       "No. Observations:                 204   AIC:                             1035.\n",
       "Df Residuals:                     192   BIC:                             1075.\n",
       "Df Model:                          11                                         \n",
       "Covariance Type:            nonrobust                                         \n",
       "====================================================================================================================\n",
       "                                                       coef    std err          t      P>|t|      [0.025      0.975]\n",
       "--------------------------------------------------------------------------------------------------------------------\n",
       "Intercept                                           11.6446      0.721     16.156      0.000      10.223      13.066\n",
       "C(age_group)[T.Old]                                 -0.9594      1.019     -0.941      0.348      -2.970       1.051\n",
       "C(age_group)[T.Young]                               -4.3087      1.019     -4.227      0.000      -6.319      -2.298\n",
       "C(density_group)[T.Dense2]                           3.4630      1.019      3.397      0.001       1.452       5.474\n",
       "C(density_group)[T.Dense3]                          -4.0248      1.019     -3.948      0.000      -6.035      -2.014\n",
       "C(density_group)[T.Dense4]                          -0.4915      1.019     -0.482      0.630      -2.502       1.519\n",
       "C(age_group)[T.Old]:C(density_group)[T.Dense2]       0.4430      1.442      0.307      0.759      -2.400       3.286\n",
       "C(age_group)[T.Young]:C(density_group)[T.Dense2]     1.2816      1.442      0.889      0.375      -1.562       4.125\n",
       "C(age_group)[T.Old]:C(density_group)[T.Dense3]      -1.9862      1.442     -1.378      0.170      -4.830       0.857\n",
       "C(age_group)[T.Young]:C(density_group)[T.Dense3]     2.6167      1.442      1.815      0.071      -0.227       5.460\n",
       "C(age_group)[T.Old]:C(density_group)[T.Dense4]       0.1301      1.442      0.090      0.928      -2.713       2.973\n",
       "C(age_group)[T.Young]:C(density_group)[T.Dense4]     3.4705      1.442      2.407      0.017       0.627       6.314\n",
       "==============================================================================\n",
       "Omnibus:                       35.404   Durbin-Watson:                   2.215\n",
       "Prob(Omnibus):                  0.000   Jarque-Bera (JB):               68.580\n",
       "Skew:                          -0.853   Prob(JB):                     1.28e-15\n",
       "Kurtosis:                       5.271   Cond. No.                         17.9\n",
       "==============================================================================\n",
       "\n",
       "Notes:\n",
       "[1] Standard Errors assume that the covariance matrix of the errors is correctly specified.\n",
       "\"\"\""
      ]
     },
     "execution_count": 180,
     "metadata": {},
     "output_type": "execute_result"
    }
   ],
   "source": [
    "formula = 'newCount ~ C(age_group) *C(density_group)'\n",
    "model3 = ols(formula, AnovaData).fit()\n",
    "model3.summary()"
   ]
  },
  {
   "cell_type": "code",
   "execution_count": 183,
   "metadata": {},
   "outputs": [
    {
     "name": "stdout",
     "output_type": "stream",
     "text": [
      "                                  sum_sq     df        F  PR(>F)\n",
      "C(age_group)                    207.1378    2.0  11.7266  0.0000\n",
      "C(density_group)               1588.1729    3.0  59.9403  0.0000\n",
      "C(age_group):C(density_group)   138.1901    6.0   2.6078  0.0188\n",
      "Residual                       1695.7384  192.0      NaN     NaN\n"
     ]
    }
   ],
   "source": [
    "aov_table = anova_lm(model3, typ=2)\n",
    "print(aov_table.round(4))"
   ]
  },
  {
   "cell_type": "code",
   "execution_count": 185,
   "metadata": {},
   "outputs": [
    {
     "data": {
      "image/png": "[encoded data removed]",
      "text/plain": [
       "<Figure size 432x288 with 1 Axes>"
      ]
     },
     "metadata": {
      "needs_background": "light"
     },
     "output_type": "display_data"
    }
   ],
   "source": [
    "res = model3.resid \n",
    "fig = sm.qqplot(res, line='s')\n",
    "plt.show()"
   ]
  },
  {
   "cell_type": "code",
   "execution_count": null,
   "metadata": {},
   "outputs": [],
   "source": [
    "# The P-value obtained from ANOVA analysis for the number of Corona cases, age group and\n",
    "# density group and interaction are statistically significant (P < 0.05).\n",
    "# We conclude that type of density_Group significantly affects the corona case outcome."
   ]
  },
  {
   "cell_type": "markdown",
   "metadata": {},
   "source": [
    "#### Approach 3 - Combined approach (1+2)"
   ]
  },
  {
   "cell_type": "code",
   "execution_count": 186,
   "metadata": {},
   "outputs": [
    {
     "data": {
      "text/html": [
       "<table class=\"simpletable\">\n",
       "<caption>OLS Regression Results</caption>\n",
       "<tr>\n",
       "  <th>Dep. Variable:</th>        <td>newCount</td>     <th>  R-squared:         </th> <td>   0.533</td>\n",
       "</tr>\n",
       "<tr>\n",
       "  <th>Model:</th>                   <td>OLS</td>       <th>  Adj. R-squared:    </th> <td>   0.506</td>\n",
       "</tr>\n",
       "<tr>\n",
       "  <th>Method:</th>             <td>Least Squares</td>  <th>  F-statistic:       </th> <td>   19.90</td>\n",
       "</tr>\n",
       "<tr>\n",
       "  <th>Date:</th>             <td>Wed, 24 Mar 2021</td> <th>  Prob (F-statistic):</th> <td>2.09e-26</td>\n",
       "</tr>\n",
       "<tr>\n",
       "  <th>Time:</th>                 <td>02:13:54</td>     <th>  Log-Likelihood:    </th> <td> -505.47</td>\n",
       "</tr>\n",
       "<tr>\n",
       "  <th>No. Observations:</th>      <td>   204</td>      <th>  AIC:               </th> <td>   1035.</td>\n",
       "</tr>\n",
       "<tr>\n",
       "  <th>Df Residuals:</th>          <td>   192</td>      <th>  BIC:               </th> <td>   1075.</td>\n",
       "</tr>\n",
       "<tr>\n",
       "  <th>Df Model:</th>              <td>    11</td>      <th>                     </th>     <td> </td>   \n",
       "</tr>\n",
       "<tr>\n",
       "  <th>Covariance Type:</th>      <td>nonrobust</td>    <th>                     </th>     <td> </td>   \n",
       "</tr>\n",
       "</table>\n",
       "<table class=\"simpletable\">\n",
       "<tr>\n",
       "                          <td></td>                            <th>coef</th>     <th>std err</th>      <th>t</th>      <th>P>|t|</th>  <th>[0.025</th>    <th>0.975]</th>  \n",
       "</tr>\n",
       "<tr>\n",
       "  <th>Intercept</th>                                        <td>   11.6446</td> <td>    0.721</td> <td>   16.156</td> <td> 0.000</td> <td>   10.223</td> <td>   13.066</td>\n",
       "</tr>\n",
       "<tr>\n",
       "  <th>C(age_group)[T.Old]</th>                              <td>   -0.9594</td> <td>    1.019</td> <td>   -0.941</td> <td> 0.348</td> <td>   -2.970</td> <td>    1.051</td>\n",
       "</tr>\n",
       "<tr>\n",
       "  <th>C(age_group)[T.Young]</th>                            <td>   -4.3087</td> <td>    1.019</td> <td>   -4.227</td> <td> 0.000</td> <td>   -6.319</td> <td>   -2.298</td>\n",
       "</tr>\n",
       "<tr>\n",
       "  <th>C(density_group)[T.Dense2]</th>                       <td>    3.4630</td> <td>    1.019</td> <td>    3.397</td> <td> 0.001</td> <td>    1.452</td> <td>    5.474</td>\n",
       "</tr>\n",
       "<tr>\n",
       "  <th>C(density_group)[T.Dense3]</th>                       <td>   -4.0248</td> <td>    1.019</td> <td>   -3.948</td> <td> 0.000</td> <td>   -6.035</td> <td>   -2.014</td>\n",
       "</tr>\n",
       "<tr>\n",
       "  <th>C(density_group)[T.Dense4]</th>                       <td>   -0.4915</td> <td>    1.019</td> <td>   -0.482</td> <td> 0.630</td> <td>   -2.502</td> <td>    1.519</td>\n",
       "</tr>\n",
       "<tr>\n",
       "  <th>C(age_group)[T.Old]:C(density_group)[T.Dense2]</th>   <td>    0.4430</td> <td>    1.442</td> <td>    0.307</td> <td> 0.759</td> <td>   -2.400</td> <td>    3.286</td>\n",
       "</tr>\n",
       "<tr>\n",
       "  <th>C(age_group)[T.Young]:C(density_group)[T.Dense2]</th> <td>    1.2816</td> <td>    1.442</td> <td>    0.889</td> <td> 0.375</td> <td>   -1.562</td> <td>    4.125</td>\n",
       "</tr>\n",
       "<tr>\n",
       "  <th>C(age_group)[T.Old]:C(density_group)[T.Dense3]</th>   <td>   -1.9862</td> <td>    1.442</td> <td>   -1.378</td> <td> 0.170</td> <td>   -4.830</td> <td>    0.857</td>\n",
       "</tr>\n",
       "<tr>\n",
       "  <th>C(age_group)[T.Young]:C(density_group)[T.Dense3]</th> <td>    2.6167</td> <td>    1.442</td> <td>    1.815</td> <td> 0.071</td> <td>   -0.227</td> <td>    5.460</td>\n",
       "</tr>\n",
       "<tr>\n",
       "  <th>C(age_group)[T.Old]:C(density_group)[T.Dense4]</th>   <td>    0.1301</td> <td>    1.442</td> <td>    0.090</td> <td> 0.928</td> <td>   -2.713</td> <td>    2.973</td>\n",
       "</tr>\n",
       "<tr>\n",
       "  <th>C(age_group)[T.Young]:C(density_group)[T.Dense4]</th> <td>    3.4705</td> <td>    1.442</td> <td>    2.407</td> <td> 0.017</td> <td>    0.627</td> <td>    6.314</td>\n",
       "</tr>\n",
       "</table>\n",
       "<table class=\"simpletable\">\n",
       "<tr>\n",
       "  <th>Omnibus:</th>       <td>35.404</td> <th>  Durbin-Watson:     </th> <td>   2.215</td>\n",
       "</tr>\n",
       "<tr>\n",
       "  <th>Prob(Omnibus):</th> <td> 0.000</td> <th>  Jarque-Bera (JB):  </th> <td>  68.580</td>\n",
       "</tr>\n",
       "<tr>\n",
       "  <th>Skew:</th>          <td>-0.853</td> <th>  Prob(JB):          </th> <td>1.28e-15</td>\n",
       "</tr>\n",
       "<tr>\n",
       "  <th>Kurtosis:</th>      <td> 5.271</td> <th>  Cond. No.          </th> <td>    17.9</td>\n",
       "</tr>\n",
       "</table><br/><br/>Notes:<br/>[1] Standard Errors assume that the covariance matrix of the errors is correctly specified."
      ],
      "text/plain": [
       "<class 'statsmodels.iolib.summary.Summary'>\n",
       "\"\"\"\n",
       "                            OLS Regression Results                            \n",
       "==============================================================================\n",
       "Dep. Variable:               newCount   R-squared:                       0.533\n",
       "Model:                            OLS   Adj. R-squared:                  0.506\n",
       "Method:                 Least Squares   F-statistic:                     19.90\n",
       "Date:                Wed, 24 Mar 2021   Prob (F-statistic):           2.09e-26\n",
       "Time:                        02:13:54   Log-Likelihood:                -505.47\n",
       "No. Observations:                 204   AIC:                             1035.\n",
       "Df Residuals:                     192   BIC:                             1075.\n",
       "Df Model:                          11                                         \n",
       "Covariance Type:            nonrobust                                         \n",
       "====================================================================================================================\n",
       "                                                       coef    std err          t      P>|t|      [0.025      0.975]\n",
       "--------------------------------------------------------------------------------------------------------------------\n",
       "Intercept                                           11.6446      0.721     16.156      0.000      10.223      13.066\n",
       "C(age_group)[T.Old]                                 -0.9594      1.019     -0.941      0.348      -2.970       1.051\n",
       "C(age_group)[T.Young]                               -4.3087      1.019     -4.227      0.000      -6.319      -2.298\n",
       "C(density_group)[T.Dense2]                           3.4630      1.019      3.397      0.001       1.452       5.474\n",
       "C(density_group)[T.Dense3]                          -4.0248      1.019     -3.948      0.000      -6.035      -2.014\n",
       "C(density_group)[T.Dense4]                          -0.4915      1.019     -0.482      0.630      -2.502       1.519\n",
       "C(age_group)[T.Old]:C(density_group)[T.Dense2]       0.4430      1.442      0.307      0.759      -2.400       3.286\n",
       "C(age_group)[T.Young]:C(density_group)[T.Dense2]     1.2816      1.442      0.889      0.375      -1.562       4.125\n",
       "C(age_group)[T.Old]:C(density_group)[T.Dense3]      -1.9862      1.442     -1.378      0.170      -4.830       0.857\n",
       "C(age_group)[T.Young]:C(density_group)[T.Dense3]     2.6167      1.442      1.815      0.071      -0.227       5.460\n",
       "C(age_group)[T.Old]:C(density_group)[T.Dense4]       0.1301      1.442      0.090      0.928      -2.713       2.973\n",
       "C(age_group)[T.Young]:C(density_group)[T.Dense4]     3.4705      1.442      2.407      0.017       0.627       6.314\n",
       "==============================================================================\n",
       "Omnibus:                       35.404   Durbin-Watson:                   2.215\n",
       "Prob(Omnibus):                  0.000   Jarque-Bera (JB):               68.580\n",
       "Skew:                          -0.853   Prob(JB):                     1.28e-15\n",
       "Kurtosis:                       5.271   Cond. No.                         17.9\n",
       "==============================================================================\n",
       "\n",
       "Notes:\n",
       "[1] Standard Errors assume that the covariance matrix of the errors is correctly specified.\n",
       "\"\"\""
      ]
     },
     "execution_count": 186,
     "metadata": {},
     "output_type": "execute_result"
    }
   ],
   "source": [
    "formula = 'newCount ~ C(age_group) + C(density_group) + C(age_group):C(density_group)'\n",
    "model4 = ols(formula, AnovaData).fit()\n",
    "model4.summary()"
   ]
  },
  {
   "cell_type": "markdown",
   "metadata": {},
   "source": [
    "## Post Hoc Tests (Two-Way ANOVA)"
   ]
  },
  {
   "cell_type": "code",
   "execution_count": 188,
   "metadata": {},
   "outputs": [
    {
     "name": "stdout",
     "output_type": "stream",
     "text": [
      "Multiple Comparison of Means - Tukey HSD, FWER=0.05 \n",
      "====================================================\n",
      "group1 group2 meandiff p-adj   lower   upper  reject\n",
      "----------------------------------------------------\n",
      "Dense1 Dense2   4.0379  0.001  2.3988  5.6769   True\n",
      "Dense1 Dense3  -3.8146  0.001 -5.4536 -2.1755   True\n",
      "Dense1 Dense4   0.7087 0.6571 -0.9303  2.3478  False\n",
      "Dense2 Dense3  -7.8525  0.001 -9.4915 -6.2134   True\n",
      "Dense2 Dense4  -3.3292  0.001 -4.9682 -1.6901   True\n",
      "Dense3 Dense4   4.5233  0.001  2.8843  6.1624   True\n",
      "----------------------------------------------------\n"
     ]
    }
   ],
   "source": [
    "mc = multicomp.MultiComparison(AnovaData['newCount'],AnovaData['density_group'])\n",
    "mc_results = mc.tukeyhsd()\n",
    "print(mc_results)"
   ]
  },
  {
   "cell_type": "code",
   "execution_count": 190,
   "metadata": {},
   "outputs": [
    {
     "name": "stdout",
     "output_type": "stream",
     "text": [
      "Multiple Comparison of Means - Tukey HSD, FWER=0.05 \n",
      "====================================================\n",
      "group1 group2 meandiff p-adj   lower   upper  reject\n",
      "----------------------------------------------------\n",
      " Adult    Old  -1.3127 0.1548 -2.9836  0.3583  False\n",
      " Adult  Young  -2.4666 0.0017 -4.1375 -0.7956   True\n",
      "   Old  Young  -1.1539 0.2354 -2.8249  0.5171  False\n",
      "----------------------------------------------------\n"
     ]
    }
   ],
   "source": [
    "mc = multicomp.MultiComparison(AnovaData['newCount'],AnovaData['age_group'])\n",
    "mc_results = mc.tukeyhsd()\n",
    "print(mc_results)"
   ]
  },
  {
   "cell_type": "code",
   "execution_count": null,
   "metadata": {},
   "outputs": [],
   "source": []
  }
 ],
 "metadata": {
  "kernelspec": {
   "display_name": "Python 3",
   "language": "python",
   "name": "python3"
  },
  "language_info": {
   "codemirror_mode": {
    "name": "ipython",
    "version": 3
   },
   "file_extension": ".py",
   "mimetype": "text/x-python",
   "name": "python",
   "nbconvert_exporter": "python",
   "pygments_lexer": "ipython3",
   "version": "3.8.5"
  }
 },
 "nbformat": 4,
 "nbformat_minor": 4
}
