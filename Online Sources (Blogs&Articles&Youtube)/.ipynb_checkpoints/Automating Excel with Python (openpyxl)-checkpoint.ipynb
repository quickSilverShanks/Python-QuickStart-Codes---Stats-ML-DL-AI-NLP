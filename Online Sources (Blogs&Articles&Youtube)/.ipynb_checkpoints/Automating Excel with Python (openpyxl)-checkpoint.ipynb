{
 "cells": [
  {
   "cell_type": "code",
   "execution_count": null,
   "metadata": {},
   "outputs": [],
   "source": [
    "# Source : https://www.youtube.com/watch?v=7YS6YDQKFh0"
   ]
  },
  {
   "cell_type": "markdown",
   "metadata": {},
   "source": [
    "### Basic Excel Actions using openpyxl"
   ]
  },
  {
   "cell_type": "code",
   "execution_count": 1,
   "metadata": {},
   "outputs": [],
   "source": [
    "from openpyxl import Workbook, load_workbook"
   ]
  },
  {
   "cell_type": "code",
   "execution_count": 17,
   "metadata": {},
   "outputs": [
    {
     "data": {
      "text/plain": [
       "<openpyxl.workbook.workbook.Workbook at 0x2618a9a2430>"
      ]
     },
     "execution_count": 17,
     "metadata": {},
     "output_type": "execute_result"
    }
   ],
   "source": [
    "wb = load_workbook(\"data\\openpyxl_demo\\Grades.xlsx\")\n",
    "wb"
   ]
  },
  {
   "cell_type": "code",
   "execution_count": 18,
   "metadata": {},
   "outputs": [
    {
     "data": {
      "text/plain": [
       "<Worksheet \"Grades\">"
      ]
     },
     "execution_count": 18,
     "metadata": {},
     "output_type": "execute_result"
    }
   ],
   "source": [
    "ws = wb.active\n",
    "ws"
   ]
  },
  {
   "cell_type": "code",
   "execution_count": 19,
   "metadata": {},
   "outputs": [
    {
     "data": {
      "text/plain": [
       "'Joe'"
      ]
     },
     "execution_count": 19,
     "metadata": {},
     "output_type": "execute_result"
    }
   ],
   "source": [
    "ws['A2'].value"
   ]
  },
  {
   "cell_type": "code",
   "execution_count": 20,
   "metadata": {},
   "outputs": [],
   "source": [
    "ws['A2'].value = 'Test'"
   ]
  },
  {
   "cell_type": "code",
   "execution_count": 21,
   "metadata": {},
   "outputs": [
    {
     "data": {
      "text/plain": [
       "<Cell 'Grades'.A2>"
      ]
     },
     "execution_count": 21,
     "metadata": {},
     "output_type": "execute_result"
    }
   ],
   "source": [
    "ws['A2']"
   ]
  },
  {
   "cell_type": "code",
   "execution_count": 22,
   "metadata": {},
   "outputs": [
    {
     "data": {
      "text/plain": [
       "'Test'"
      ]
     },
     "execution_count": 22,
     "metadata": {},
     "output_type": "execute_result"
    }
   ],
   "source": [
    "ws['A2'].value"
   ]
  },
  {
   "cell_type": "code",
   "execution_count": 23,
   "metadata": {},
   "outputs": [],
   "source": [
    "wb.save(\"data\\openpyxl_demo\\Grades.xlsx\")"
   ]
  },
  {
   "cell_type": "code",
   "execution_count": 24,
   "metadata": {},
   "outputs": [
    {
     "data": {
      "text/plain": [
       "['Grades', 'Sheet1', 'Sheet2', 'Sheet3']"
      ]
     },
     "execution_count": 24,
     "metadata": {},
     "output_type": "execute_result"
    }
   ],
   "source": [
    "wb.sheetnames"
   ]
  },
  {
   "cell_type": "code",
   "execution_count": 25,
   "metadata": {},
   "outputs": [
    {
     "data": {
      "text/plain": [
       "<Worksheet \"Sheet1\">"
      ]
     },
     "execution_count": 25,
     "metadata": {},
     "output_type": "execute_result"
    }
   ],
   "source": [
    "wb['Sheet1']"
   ]
  },
  {
   "cell_type": "code",
   "execution_count": 26,
   "metadata": {},
   "outputs": [
    {
     "data": {
      "text/plain": [
       "<Worksheet \"Test\">"
      ]
     },
     "execution_count": 26,
     "metadata": {},
     "output_type": "execute_result"
    }
   ],
   "source": [
    "wb.create_sheet('Test')"
   ]
  },
  {
   "cell_type": "code",
   "execution_count": 27,
   "metadata": {},
   "outputs": [
    {
     "data": {
      "text/plain": [
       "['Grades', 'Sheet1', 'Sheet2', 'Sheet3', 'Test']"
      ]
     },
     "execution_count": 27,
     "metadata": {},
     "output_type": "execute_result"
    }
   ],
   "source": [
    "wb.sheetnames"
   ]
  },
  {
   "cell_type": "code",
   "execution_count": 28,
   "metadata": {},
   "outputs": [],
   "source": [
    "wb.save(\"data\\openpyxl_demo\\Grades.xlsx\")"
   ]
  },
  {
   "cell_type": "markdown",
   "metadata": {},
   "source": [
    "### Working with openpyxl"
   ]
  },
  {
   "cell_type": "markdown",
   "metadata": {},
   "source": [
    "##### Note : Run each cell and open the excel file to verify output"
   ]
  },
  {
   "cell_type": "code",
   "execution_count": 31,
   "metadata": {},
   "outputs": [],
   "source": [
    "# Create a new excel workbook and rename its Sheet1(active sheet) to 'Data'\n",
    "wb = Workbook()\n",
    "ws = wb.active\n",
    "ws.title = 'Data'"
   ]
  },
  {
   "cell_type": "code",
   "execution_count": 32,
   "metadata": {},
   "outputs": [],
   "source": [
    "# Adding/Appending Rows\n",
    "ws.append(['AI', 'is', 'everywhere', '!'])\n",
    "ws.append(['AI', 'is', 'everywhere', '!'])\n",
    "ws.append(['AI', 'is', 'everywhere', '!'])\n",
    "ws.append(['AI', 'is', 'everywhere', '!'])\n",
    "ws.append(['End'])\n",
    "\n",
    "wb.save(\"data\\openpyxl_demo\\openpyxl_demo.xlsx\")"
   ]
  },
  {
   "cell_type": "code",
   "execution_count": 33,
   "metadata": {},
   "outputs": [],
   "source": [
    "# Accessing Multiple Cells\n",
    "from openpyxl.utils import get_column_letter\n",
    "\n",
    "wb = load_workbook(\"data\\openpyxl_demo\\openpyxl_demo.xlsx\")\n",
    "ws = wb.active\n",
    "\n",
    "for row in range(1,11):\n",
    "    for col in range(1,5):\n",
    "        char = get_column_letter(col)\n",
    "        ws[char + str(row)] = char + str(row)\n",
    "\n",
    "wb.save(\"data\\openpyxl_demo\\openpyxl_demo.xlsx\")"
   ]
  },
  {
   "cell_type": "code",
   "execution_count": 34,
   "metadata": {},
   "outputs": [],
   "source": [
    "# Merge/Unmerge Cells\n",
    "wb = load_workbook(\"data\\openpyxl_demo\\openpyxl_demo.xlsx\")\n",
    "ws = wb.active\n",
    "\n",
    "ws.merge_cells(\"A1:D2\")\n",
    "ws.merge_cells(\"A3:D3\")\n",
    "ws.unmerge_cells(\"A3:D3\")\n",
    "\n",
    "wb.save(\"data\\openpyxl_demo\\openpyxl_demo.xlsx\")"
   ]
  },
  {
   "cell_type": "code",
   "execution_count": 35,
   "metadata": {},
   "outputs": [],
   "source": [
    "# Inserting and Deleting Rows\n",
    "wb = load_workbook(\"data\\openpyxl_demo\\openpyxl_demo.xlsx\")\n",
    "ws = wb.active\n",
    "\n",
    "ws.insert_rows(7)\n",
    "ws.insert_rows(7)\n",
    "\n",
    "wb.save(\"data\\openpyxl_demo\\openpyxl_demo.xlsx\")"
   ]
  },
  {
   "cell_type": "code",
   "execution_count": 36,
   "metadata": {},
   "outputs": [],
   "source": [
    "# Inserting and Deleting Rows\n",
    "wb = load_workbook(\"data\\openpyxl_demo\\openpyxl_demo.xlsx\")\n",
    "ws = wb.active\n",
    "\n",
    "ws.delete_rows(7)\n",
    "\n",
    "wb.save(\"data\\openpyxl_demo\\openpyxl_demo.xlsx\")"
   ]
  },
  {
   "cell_type": "code",
   "execution_count": 37,
   "metadata": {},
   "outputs": [],
   "source": [
    "# Inserting and Deleting Columns\n",
    "wb = load_workbook(\"data\\openpyxl_demo\\openpyxl_demo.xlsx\")\n",
    "ws = wb.active\n",
    "\n",
    "ws.insert_cols(2)\n",
    "\n",
    "wb.save(\"data\\openpyxl_demo\\openpyxl_demo.xlsx\")"
   ]
  },
  {
   "cell_type": "code",
   "execution_count": 38,
   "metadata": {},
   "outputs": [],
   "source": [
    "# Inserting and Deleting Columns\n",
    "wb = load_workbook(\"data\\openpyxl_demo\\openpyxl_demo.xlsx\")\n",
    "ws = wb.active\n",
    "\n",
    "ws.delete_cols(2)\n",
    "\n",
    "wb.save(\"data\\openpyxl_demo\\openpyxl_demo.xlsx\")"
   ]
  },
  {
   "cell_type": "code",
   "execution_count": 39,
   "metadata": {},
   "outputs": [],
   "source": [
    "# Copying and Moving Cells\n",
    "wb = load_workbook(\"data\\openpyxl_demo\\openpyxl_demo.xlsx\")\n",
    "ws = wb.active\n",
    "\n",
    "ws.move_range(\"C1:D11\", rows=2, cols=2)\n",
    "\n",
    "wb.save(\"data\\openpyxl_demo\\openpyxl_demo.xlsx\")"
   ]
  },
  {
   "cell_type": "markdown",
   "metadata": {},
   "source": [
    "### Practical example, Formulae & Cell Styling"
   ]
  },
  {
   "cell_type": "code",
   "execution_count": 32,
   "metadata": {},
   "outputs": [],
   "source": [
    "from openpyxl import Workbook, load_workbook\n",
    "from openpyxl.utils import get_column_letter\n",
    "from openpyxl.styles import Font\n",
    "\n",
    "data = {\n",
    "    \"Joe\": {\n",
    "        \"math\": 65,\n",
    "        \"science\": 78,\n",
    "        \"english\": 98,\n",
    "        \"gym\": 89\n",
    "    },\n",
    "    \"Bill\": {\n",
    "        \"math\": 55,\n",
    "        \"science\": 72,\n",
    "        \"english\": 87,\n",
    "        \"gym\": 95\n",
    "    },\n",
    "    \"Tim\": {\n",
    "        \"math\": 100,\n",
    "        \"science\": 45,\n",
    "        \"english\": 75,\n",
    "        \"gym\": 92\n",
    "    },\n",
    "    \"Sally\": {\n",
    "        \"math\": 30,\n",
    "        \"science\": 25,\n",
    "        \"english\": 45,\n",
    "        \"gym\": 100\n",
    "    },\n",
    "    \"Jane\": {\n",
    "        \"math\": 100,\n",
    "        \"science\": 100,\n",
    "        \"english\": 100,\n",
    "        \"gym\": 60\n",
    "    }\n",
    "}\n",
    "\n",
    "wb = Workbook()\n",
    "ws = wb.active\n",
    "ws.title = \"Grades\"\n",
    "\n",
    "headings = ['Name'] + list(data['Joe'].keys())\n",
    "ws.append(headings)\n",
    "\n",
    "for person in data:\n",
    "    grades = list(data[person].values())\n",
    "    ws.append([person] + grades)\n",
    "\n",
    "for col in range(2, len(data['Joe']) + 2):\n",
    "    char = get_column_letter(col)\n",
    "    ws[char + \"7\"] = f\"=SUM({char + '2'}:{char + '6'})/{len(data)}\"\n",
    "\n",
    "for col in range(1, 6):\n",
    "    ws[get_column_letter(col) + '1'].font = Font(bold=True, color=\"0099CCFF\")\n",
    "\n",
    "wb.save(\"data\\\\openpyxl_demo\\\\NewGrades.xlsx\")\n",
    "# wb.save(\"data\\openpyxl_demo\\NewGrades.xlsx\")\n",
    "# Above commented line will return error due to '\\N' having a special meaning."
   ]
  }
 ],
 "metadata": {
  "kernelspec": {
   "display_name": "Python 3",
   "language": "python",
   "name": "python3"
  },
  "language_info": {
   "codemirror_mode": {
    "name": "ipython",
    "version": 3
   },
   "file_extension": ".py",
   "mimetype": "text/x-python",
   "name": "python",
   "nbconvert_exporter": "python",
   "pygments_lexer": "ipython3",
   "version": "3.8.5"
  }
 },
 "nbformat": 4,
 "nbformat_minor": 4
}
