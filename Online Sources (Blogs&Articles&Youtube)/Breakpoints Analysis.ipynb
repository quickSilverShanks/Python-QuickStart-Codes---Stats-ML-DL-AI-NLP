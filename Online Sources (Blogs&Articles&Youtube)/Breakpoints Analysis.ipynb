{
 "cells": [
  {
   "cell_type": "code",
   "execution_count": 1,
   "metadata": {},
   "outputs": [],
   "source": [
    "# Original Source : https://github.com/alod83/data-science/blob/master/DataAnalysis/\\BreakpointAnalysis"
   ]
  },
  {
   "cell_type": "markdown",
   "metadata": {},
   "source": [
    "# Breakpoints Analysis\n",
    "\n",
    "When dealing with time series, it is very important to identify breakpoints. In fact, the presence of breakpoints in data may lead to errors and model instability while performing predictions. \n",
    "\n",
    "A breakpoint is a structural change in data, such as an anomaly or an expected event. \n",
    "\n",
    "Many techniques exist to identify breakpoints. In general, these techniques can be classified into two categories: \n",
    "* detection - detect one or many breakpoints\n",
    "* test - given a point, check whether it is a breakpoint or not. This category of techniques includes the famous [Chow Test](https://en.wikipedia.org/wiki/Chow_test).\n",
    "\n",
    "In this short tutorial, I focus on the first category of breakpoints and I compare two Python libraries for breakpoints analysis: `ruptures` and `jenkspy`.\n",
    "\n",
    "## Load data\n",
    "Firstly I load the dataset as a `pandas` dataframe. As dataset I exploit the [Giallozafferano](https://www.giallozafferano.com/) audience trend from 2015 to 2020. Giallozafferano is a very famous Italian food blog. Data have been extracted from [Audiweb](http://www.audiweb.it/), an Italian Web site which analyses the use of Internet in Italy, and, then elaborated through a software implemented by one of my students, called [LEX](https://github.com/Alearena97/LEX---Lettore-ed-Estrattore_xls-xlsx). LEX is a very useful software which converts multiple files in Microsoft Excel, divided by dates, to a single CSV file. If you want to know more about this software, please drop me a message :)"
   ]
  },
  {
   "cell_type": "code",
   "execution_count": 2,
   "metadata": {},
   "outputs": [
    {
     "data": {
      "text/html": [
       "<div>\n",
       "<style scoped>\n",
       "    .dataframe tbody tr th:only-of-type {\n",
       "        vertical-align: middle;\n",
       "    }\n",
       "\n",
       "    .dataframe tbody tr th {\n",
       "        vertical-align: top;\n",
       "    }\n",
       "\n",
       "    .dataframe thead th {\n",
       "        text-align: right;\n",
       "    }\n",
       "</style>\n",
       "<table border=\"1\" class=\"dataframe\">\n",
       "  <thead>\n",
       "    <tr style=\"text-align: right;\">\n",
       "      <th></th>\n",
       "      <th>date</th>\n",
       "      <th>audience</th>\n",
       "    </tr>\n",
       "  </thead>\n",
       "  <tbody>\n",
       "    <tr>\n",
       "      <th>0</th>\n",
       "      <td>2015-1-01</td>\n",
       "      <td>750823.0</td>\n",
       "    </tr>\n",
       "    <tr>\n",
       "      <th>1</th>\n",
       "      <td>2015-2-01</td>\n",
       "      <td>823766.0</td>\n",
       "    </tr>\n",
       "    <tr>\n",
       "      <th>2</th>\n",
       "      <td>2015-3-01</td>\n",
       "      <td>736273.0</td>\n",
       "    </tr>\n",
       "    <tr>\n",
       "      <th>3</th>\n",
       "      <td>2015-4-01</td>\n",
       "      <td>663810.0</td>\n",
       "    </tr>\n",
       "    <tr>\n",
       "      <th>4</th>\n",
       "      <td>2015-5-01</td>\n",
       "      <td>558158.0</td>\n",
       "    </tr>\n",
       "  </tbody>\n",
       "</table>\n",
       "</div>"
      ],
      "text/plain": [
       "        date  audience\n",
       "0  2015-1-01  750823.0\n",
       "1  2015-2-01  823766.0\n",
       "2  2015-3-01  736273.0\n",
       "3  2015-4-01  663810.0\n",
       "4  2015-5-01  558158.0"
      ]
     },
     "execution_count": 2,
     "metadata": {},
     "output_type": "execute_result"
    }
   ],
   "source": [
    "import pandas as pd\n",
    "\n",
    "df = pd.read_csv('data/breakpoint_tsa/GialloZafferano.csv')\n",
    "df.head()"
   ]
  },
  {
   "cell_type": "markdown",
   "metadata": {},
   "source": [
    "Now I convert the dataframe into a time series. This can be done in three steps:\n",
    "* convert the `data` field to a datetime \n",
    "* set the date column as index of the time series\n",
    "* assign the column of values to a new variable, called `ts`."
   ]
  },
  {
   "cell_type": "code",
   "execution_count": 3,
   "metadata": {},
   "outputs": [],
   "source": [
    "df['date'] = pd.to_datetime(df['date'])\n",
    "df.set_index(df['date'], inplace = True)\n",
    "ts = df['audience']"
   ]
  },
  {
   "cell_type": "markdown",
   "metadata": {},
   "source": [
    "I plot the time series. I exploit the `matplotlib` library."
   ]
  },
  {
   "cell_type": "code",
   "execution_count": 4,
   "metadata": {},
   "outputs": [
    {
     "data": {
      "image/png": "[encoded data removed]",
      "text/plain": [
       "<Figure size 432x288 with 1 Axes>"
      ]
     },
     "metadata": {
      "needs_background": "light"
     },
     "output_type": "display_data"
    }
   ],
   "source": [
    "import matplotlib.pyplot as plt\n",
    "\n",
    "plt.plot(ts)\n",
    "plt.title('Audience')\n",
    "plt.grid()\n",
    "plt.show()"
   ]
  },
  {
   "cell_type": "markdown",
   "metadata": {},
   "source": [
    "Looking at the graph, I note that the are about three main breaks. Thus, I decide to search for 3 breaks."
   ]
  },
  {
   "cell_type": "code",
   "execution_count": 5,
   "metadata": {},
   "outputs": [],
   "source": [
    "n_breaks = 3"
   ]
  },
  {
   "cell_type": "markdown",
   "metadata": {},
   "source": [
    "I prepare data to be given as input of the tested libraries. I convert the time series to array."
   ]
  },
  {
   "cell_type": "code",
   "execution_count": 6,
   "metadata": {},
   "outputs": [],
   "source": [
    "import numpy as np\n",
    "\n",
    "y = np.array(ts.tolist())"
   ]
  },
  {
   "cell_type": "markdown",
   "metadata": {},
   "source": [
    "# Ruptures\n",
    "\n",
    "The first breakpoints detection library is [Ruptures](https://pypi.org/project/ruptures/), which can be installed through the command `pip install rupture`. \n",
    "\n",
    "Ruptures provides six different models to detect breakpoints: `Dynp`, `KernelCPD`, `Pelt`, `Binseg`, `BottomUp`, `Window`. Each model must be built, trained (through the `fit()` function) and then used for prediction. The `predict()` function receives as input the number of breakpoints (minus 1) to be identified. "
   ]
  },
  {
   "cell_type": "code",
   "execution_count": 7,
   "metadata": {},
   "outputs": [],
   "source": [
    "import ruptures as rpt\n",
    "\n",
    "model = rpt.Dynp(model=\"l1\")\n",
    "model.fit(y)\n",
    "breaks = model.predict(n_bkps=n_breaks-1)"
   ]
  },
  {
   "cell_type": "markdown",
   "metadata": {},
   "source": [
    "Since `ruptures` returns the index at which the structural change happens, I retrieve the date from the original time series `ts`."
   ]
  },
  {
   "cell_type": "code",
   "execution_count": 8,
   "metadata": {},
   "outputs": [
    {
     "data": {
      "text/plain": [
       "DatetimeIndex(['2016-03-01', '2018-04-01', '2020-11-01'], dtype='datetime64[ns]', freq=None)"
      ]
     },
     "execution_count": 8,
     "metadata": {},
     "output_type": "execute_result"
    }
   ],
   "source": [
    "breaks_rpt = []\n",
    "for i in breaks:\n",
    "    breaks_rpt.append(ts.index[i-1])\n",
    "breaks_rpt = pd.to_datetime(breaks_rpt)\n",
    "breaks_rpt"
   ]
  },
  {
   "cell_type": "markdown",
   "metadata": {},
   "source": [
    "Now I plot results."
   ]
  },
  {
   "cell_type": "code",
   "execution_count": 9,
   "metadata": {},
   "outputs": [
    {
     "data": {
      "image/png": "[encoded data removed]",
      "text/plain": [
       "<Figure size 432x288 with 1 Axes>"
      ]
     },
     "metadata": {
      "needs_background": "light"
     },
     "output_type": "display_data"
    }
   ],
   "source": [
    "plt.plot(ts, label='data')\n",
    "plt.title('Audience')\n",
    "print_legend = True\n",
    "for i in breaks_rpt:\n",
    "    if print_legend:\n",
    "        plt.axvline(i, color='red',linestyle='dashed', label='breaks')\n",
    "        print_legend = False\n",
    "    else:\n",
    "        plt.axvline(i, color='red',linestyle='dashed')\n",
    "plt.grid()\n",
    "plt.legend()\n",
    "plt.show()"
   ]
  },
  {
   "cell_type": "markdown",
   "metadata": {},
   "source": [
    "# Jenkspy\n",
    "The second breakpoints detection library is [Jenkspy](https://pypi.org/project/jenkspy/), which can be installed through the following command: `pip install jenkspy`. This library computes the natural breaks into an array according to the Fisher-Jenks algorithm.\n",
    "\n",
    "I import the library (`import jenkspy`) and then I call the `jenks_breaks()` function, which receives the arrary of values and the number of breaks to be detected as input. As output, the function returns the values corresponding to the identified breaks. Remind that Ruptures, instead, returns the breaks indexes. "
   ]
  },
  {
   "cell_type": "code",
   "execution_count": 10,
   "metadata": {},
   "outputs": [],
   "source": [
    "import jenkspy\n",
    "\n",
    "breaks = jenkspy.jenks_breaks(y, nb_class=n_breaks-1)"
   ]
  },
  {
   "cell_type": "markdown",
   "metadata": {},
   "source": [
    "I calculate the breaks indexes, by looping through the `breaks` array."
   ]
  },
  {
   "cell_type": "code",
   "execution_count": 11,
   "metadata": {},
   "outputs": [
    {
     "data": {
      "text/plain": [
       "[DatetimeIndex(['2017-07-01'], dtype='datetime64[ns]', name='date', freq=None),\n",
       " DatetimeIndex(['2018-04-01'], dtype='datetime64[ns]', name='date', freq=None),\n",
       " DatetimeIndex(['2020-04-01'], dtype='datetime64[ns]', name='date', freq=None)]"
      ]
     },
     "execution_count": 11,
     "metadata": {},
     "output_type": "execute_result"
    }
   ],
   "source": [
    "breaks_jkp = []\n",
    "for v in breaks:\n",
    "    idx = ts.index[ts == v]\n",
    "    breaks_jkp.append(idx)\n",
    "breaks_jkp"
   ]
  },
  {
   "cell_type": "markdown",
   "metadata": {},
   "source": [
    "And I plot results."
   ]
  },
  {
   "cell_type": "code",
   "execution_count": 12,
   "metadata": {},
   "outputs": [
    {
     "data": {
      "image/png": "[encoded data removed]",
      "text/plain": [
       "<Figure size 432x288 with 1 Axes>"
      ]
     },
     "metadata": {
      "needs_background": "light"
     },
     "output_type": "display_data"
    }
   ],
   "source": [
    "plt.plot(ts, label='data')\n",
    "plt.title('Audience')\n",
    "print_legend = True\n",
    "for i in breaks_jkp:\n",
    "    if print_legend:\n",
    "        plt.axvline(i, color='red',linestyle='dashed', label='breaks')\n",
    "        print_legend = False\n",
    "    else:\n",
    "        plt.axvline(i, color='red',linestyle='dashed')\n",
    "plt.grid()\n",
    "plt.legend()\n",
    "plt.show()"
   ]
  },
  {
   "cell_type": "markdown",
   "metadata": {},
   "source": [
    "# Compare results\n",
    "Finally, I compare the results produced by the two libraries. I perform a visual comparison. \n",
    "\n",
    "I calculate the ideal case, where both the algorithms produce the same result."
   ]
  },
  {
   "cell_type": "code",
   "execution_count": 13,
   "metadata": {},
   "outputs": [],
   "source": [
    "x_ideal = ts.index\n",
    "y_ideal = x_ideal"
   ]
  },
  {
   "cell_type": "markdown",
   "metadata": {},
   "source": [
    "I compare the two algorithms through a scatter plot. The ideal case is plotted in red.\n",
    "I note that there is only a common break (the one crossing the ideal case). The first breakpoint is quite different,while the third one is quite similar."
   ]
  },
  {
   "cell_type": "code",
   "execution_count": 14,
   "metadata": {},
   "outputs": [
    {
     "data": {
      "image/png": "[encoded data removed]",
      "text/plain": [
       "<Figure size 400x400 with 1 Axes>"
      ]
     },
     "metadata": {
      "needs_background": "light"
     },
     "output_type": "display_data"
    }
   ],
   "source": [
    "plt.figure(figsize=(5, 5), dpi=80)\n",
    "plt.scatter(breaks_rpt,breaks_jkp)\n",
    "plt.xlabel('Ruptures')\n",
    "plt.ylabel('Jenkspy')\n",
    "plt.title('Jenskpy VS Ruptures')\n",
    "plt.xlim(ts.index[0], ts.index[len(ts)-1])\n",
    "plt.ylim(ts.index[0], ts.index[len(ts)-1])\n",
    "plt.plot(x_ideal,y_ideal, color='r', linestyle='dashed')\n",
    "plt.grid()\n",
    "plt.show()"
   ]
  },
  {
   "cell_type": "code",
   "execution_count": null,
   "metadata": {},
   "outputs": [],
   "source": []
  }
 ],
 "metadata": {
  "kernelspec": {
   "display_name": "Python 3",
   "language": "python",
   "name": "python3"
  },
  "language_info": {
   "codemirror_mode": {
    "name": "ipython",
    "version": 3
   },
   "file_extension": ".py",
   "mimetype": "text/x-python",
   "name": "python",
   "nbconvert_exporter": "python",
   "pygments_lexer": "ipython3",
   "version": "3.8.5"
  }
 },
 "nbformat": 4,
 "nbformat_minor": 4
}
